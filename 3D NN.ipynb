{
 "cells": [
  {
   "cell_type": "code",
   "execution_count": null,
   "metadata": {},
   "outputs": [],
   "source": [
    "import pandas as pd\n",
    "import numpy as np\n",
    "from numpy import vstack\n",
    "import h5py \n",
    "from sklearn.metrics import roc_curve, roc_auc_score\n",
    "from sklearn import metrics \n",
    "from sklearn.model_selection import train_test_split, LeaveOneOut, StratifiedKFold\n",
    "from matplotlib import pyplot as plt\n",
    "from torch.nn import Linear, Sigmoid, ReLU, BCELoss, Dropout, Module\n",
    "from torch import Tensor, nn\n",
    "from torch.optim import SGD\n",
    "import torch\n",
    "import random\n",
    "from tqdm import tnrange\n",
    "from tqdm import tqdm_notebook as tqdm"
   ]
  },
  {
   "cell_type": "markdown",
   "metadata": {},
   "source": [
    "# load data\n",
    "\n",
    "`list_inputs` is a 3D matrix of shape (6700 pathways, 12639 genes, 234 patients)"
   ]
  },
  {
   "cell_type": "code",
   "execution_count": null,
   "metadata": {},
   "outputs": [],
   "source": [
    "f = h5py.File(\"pathway_data.h5\", \"r\")\n",
    "gr_truth = list(f['gr_truth']) # whether patients have COVID-19 or not\n",
    "\n",
    "tensor_inputs = torch.zeros((234, 6700, 12639))\n",
    "for n in tnrange(len(gr_truth)): \n",
    "    mat = torch(f['sample_' + str(n)])\n",
    "    tensor_inputs[n] = mat"
   ]
  },
  {
   "cell_type": "code",
   "execution_count": null,
   "metadata": {},
   "outputs": [],
   "source": [
    "# Train-test split \n",
    "X_train, X_test, y_train, y_test = train_test_split(list_inputs, gr_truth, test_size=0.33, random_state=42) "
   ]
  },
  {
   "cell_type": "markdown",
   "metadata": {},
   "source": [
    "# neural network"
   ]
  },
  {
   "cell_type": "code",
   "execution_count": null,
   "metadata": {},
   "outputs": [],
   "source": [
    "class DropoutNet(Module):\n",
    "    def __init__(self, shape, p):\n",
    "        super(DropoutNet, self).__init__()\n",
    "        self.fc1 = Linear(shape[1], 128)\n",
    "        self.fc2 = Linear(128, 1)\n",
    "        self.fc3 = Linear(shape[0], 32)\n",
    "        self.fc4 = Linear(32, 1)\n",
    "        self.dropout = Dropout(p=p)\n",
    "        self.sigmoid = Sigmoid()\n",
    "        self.ReLU = ReLU()\n",
    "\n",
    "    # x represents our data\n",
    "    def forward(self, x):\n",
    "        y = torch.from_numpy(x)\n",
    "        y = self.dropout(self.ReLU(self.fc1(y)))\n",
    "        y = self.ReLU(self.fc2(y))\n",
    "        y = self.dropout(self.ReLU(self.fc3(y.T)))\n",
    "        y = self.fc4(y)\n",
    "        y = self.sigmoid(y)\n",
    "        return y"
   ]
  },
  {
   "cell_type": "code",
   "execution_count": null,
   "metadata": {},
   "outputs": [],
   "source": [
    "# train model \n",
    "def train_model(X_train, y_train, model, lr=1e-4, momentum=0.6): \n",
    "    # define optimization \n",
    "    criterion = BCELoss()\n",
    "    optimizer = SGD(model.parameters(), lr=lr, momentum=momentum) \n",
    "    # enumerate epochs \n",
    "    pbar = tqdm(total=100*len(X_train))\n",
    "    for epoch in range(100):\n",
    "        # enumerate mini batches \n",
    "        for i in range(len(X_train)): \n",
    "            inputs = X_train[i]\n",
    "            targets = y_train[i]\n",
    "            # clear the gradients \n",
    "            optimizer.zero_grad() \n",
    "            # compute the model output \n",
    "            yhat = model(inputs)[0] \n",
    "            # calculate loss\n",
    "            loss = criterion(yhat, targets)\n",
    "            # credit assignment \n",
    "            loss.backward()\n",
    "            # update model weights \n",
    "            optimizer.step()\n",
    "            pbar.update(1) \n",
    "    pbar.close()\n",
    "        \n",
    "def evaluate_model(X_test, y_test, model, cv=False): \n",
    "    predictions, actuals = [], [] \n",
    "    for i in range(len(X_test)): \n",
    "        inputs = X_test[i]\n",
    "        targets = y_test[i]\n",
    "        # evaluate model on test set \n",
    "        yhat = model(inputs)[0]\n",
    "        # retrieve numpy array\n",
    "        yhat = yhat.detach().numpy() \n",
    "        # store \n",
    "        predictions.append(yhat)\n",
    "        actuals.append(targets) \n",
    "    predictions, actuals = vstack(predictions), vstack(actuals)\n",
    "    \n",
    "    # calculate AUC \n",
    "    ns_probs = [0 for _ in range(len(X_test))]\n",
    "    ns_auc = roc_auc_score(actuals, ns_probs)\n",
    "    lr_auc = roc_auc_score(actuals, predictions) \n",
    "    \n",
    "    # calculate roc curves\n",
    "    ns_fpr, ns_tpr, _ = roc_curve(y_test, ns_probs)\n",
    "    lr_fpr, lr_tpr, _ = roc_curve(y_test, predictions)\n",
    "    \n",
    "    if cv: return lr_auc, lr_fpr, lr_tpr \n",
    "    \n",
    "    # summarize scores\n",
    "    print('No skill: ROC AUC=%.3f' % (ns_auc))\n",
    "    print('Neural network: ROC AUC=%.3f' % (lr_auc))\n",
    "    \n",
    "    # plot the roc curve for the model\n",
    "    plt.plot(ns_fpr, ns_tpr, linestyle='--', label='No Skill')\n",
    "    plt.plot(lr_fpr, lr_tpr, marker='.', label='Neural network')\n",
    "    # axis labels\n",
    "    plt.xlabel('False Positive Rate')\n",
    "    plt.ylabel('True Positive Rate')\n",
    "    # show the legend\n",
    "    plt.legend()\n",
    "    # show the plot\n",
    "    plt.show()"
   ]
  },
  {
   "cell_type": "markdown",
   "metadata": {},
   "source": [
    "# Train/test model"
   ]
  },
  {
   "cell_type": "code",
   "execution_count": null,
   "metadata": {},
   "outputs": [],
   "source": [
    "nn = DropoutNet(X_train.shape, 0.2)\n",
    "train_model(X_train, torch.from_numpy(np.array(y_train)).float(), nn) "
   ]
  }
 ],
 "metadata": {
  "kernelspec": {
   "display_name": "Python 3",
   "language": "python",
   "name": "python3"
  },
  "language_info": {
   "codemirror_mode": {
    "name": "ipython",
    "version": 3
   },
   "file_extension": ".py",
   "mimetype": "text/x-python",
   "name": "python",
   "nbconvert_exporter": "python",
   "pygments_lexer": "ipython3",
   "version": "3.6.5"
  }
 },
 "nbformat": 4,
 "nbformat_minor": 2
}
