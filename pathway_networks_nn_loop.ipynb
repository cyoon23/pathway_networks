{
 "cells": [
  {
   "cell_type": "code",
   "execution_count": 74,
   "metadata": {},
   "outputs": [],
   "source": [
    "import pandas as pd\n",
    "import numpy as np\n",
    "from numpy import vstack\n",
    "import h5py\n",
    "import torch\n",
    "from sklearn.metrics import roc_curve, roc_auc_score\n",
    "from sklearn import metrics \n",
    "from sklearn.model_selection import train_test_split, LeaveOneOut, StratifiedKFold\n",
    "from matplotlib import pyplot as plt\n",
    "from torch import Tensor, nn\n",
    "from torch.nn import Linear, Sigmoid, ReLU, BCELoss\n",
    "from torch.optim import SGD\n",
    "import random\n",
    "from tqdm import trange "
   ]
  },
  {
   "cell_type": "markdown",
   "metadata": {},
   "source": [
    "# Load data"
   ]
  },
  {
   "cell_type": "code",
   "execution_count": 2,
   "metadata": {},
   "outputs": [],
   "source": [
    "f = h5py.File(\"pathway_data.h5\", \"r\")"
   ]
  },
  {
   "cell_type": "code",
   "execution_count": 3,
   "metadata": {},
   "outputs": [],
   "source": [
    "gr_truth = list(f['gr_truth'])"
   ]
  },
  {
   "cell_type": "code",
   "execution_count": 4,
   "metadata": {},
   "outputs": [
    {
     "name": "stderr",
     "output_type": "stream",
     "text": [
      "100%|██████████| 234/234 [03:02<00:00,  1.28it/s]\n"
     ]
    }
   ],
   "source": [
    "list_inputs = []\n",
    "for n in trange(len(gr_truth)): \n",
    "    arr = np.array(f['sample_' + str(n)])\n",
    "    list_inputs.append(arr)\n",
    "X_train, X_test, y_train, y_test = train_test_split(list_inputs, gr_truth, test_size=0.33, random_state=42) "
   ]
  },
  {
   "cell_type": "markdown",
   "metadata": {},
   "source": [
    "# Neural network"
   ]
  },
  {
   "cell_type": "code",
   "execution_count": 14,
   "metadata": {},
   "outputs": [],
   "source": [
    "class LoopNet(nn.Module):\n",
    "    def __init__(self, shape):\n",
    "        super(LoopNet, self).__init__()\n",
    "        self.fc1 = Linear(shape[1], 1)\n",
    "        self.fc2 = Linear(shape[0], 1)\n",
    "        self.sigmoid = nn.Sigmoid()\n",
    "\n",
    "    # x represents our data\n",
    "    def forward(self, x):\n",
    "        total = list() \n",
    "        for i in range(len(x)): \n",
    "            item = torch.from_numpy(x[i])\n",
    "            y = self.fc1(item) \n",
    "            total.append(y)\n",
    "        total = torch.cat(total, 1)\n",
    "        total = torch.transpose(total, 0, 1) \n",
    "        z = self.sigmoid(self.fc2(total)) \n",
    "        return z"
   ]
  },
  {
   "cell_type": "code",
   "execution_count": 86,
   "metadata": {},
   "outputs": [],
   "source": [
    "# train model \n",
    "def train_model(X_train, y_train, model, lr=1e-4, momentum=0.6): \n",
    "    # define optimization \n",
    "    criterion = BCELoss() \n",
    "    optimizer = SGD(model.parameters(), lr=lr, momentum=momentum) \n",
    "    # enumerate epochs \n",
    "    for epoch in range(100):\n",
    "        # clear the gradients \n",
    "        optimizer.zero_grad()\n",
    "        # compute the model output \n",
    "        yhat = model(X_train) \n",
    "        # calculate loss \n",
    "        loss = criterion(yhat, y_train)\n",
    "        # credit assignment \n",
    "        loss.backward()\n",
    "        # update model weights \n",
    "        optimizer.step()\n",
    "\n",
    "def stratifiedKFold(X, y): \n",
    "    cv = StratifiedKFold(n_splits=10)\n",
    "    list_auc = []\n",
    "    ns_probs = [0 for _ in range(len(X))]\n",
    "    ns_auc = roc_auc_score(y, ns_probs)\n",
    "    ns_fpr, ns_tpr, _ = roc_curve(y, ns_probs)\n",
    "    plt.plot(ns_fpr, ns_tpr, linestyle='--', label='No Skill')\n",
    "    for train_idx, test_idx in cv.split(X, y): \n",
    "        X_train, X_test = [X[i] for i in train_idx], [X[i] for i in test_idx]\n",
    "        y_train, y_test = y[train_idx], y[test_idx]\n",
    "        model = LoopNet(X_train[0].shape)\n",
    "        train_model(X_train, torch.from_numpy(np.array(y_train)).float(), model)\n",
    "        lr_auc, lr_fpr, lr_tpr = evaluate_model(X_test, y_test, model, cv=True)\n",
    "        list_auc.append(lr_auc) \n",
    "        plt.plot(lr_fpr, lr_tpr, marker='.')\n",
    "    # axis labels\n",
    "    plt.xlabel('False Positive Rate')\n",
    "    plt.ylabel('True Positive Rate')\n",
    "    # plot text\n",
    "    auc_text = \"Avg AUC: {:.2f}\".format(np.mean(list_auc))\n",
    "    plt.annotate(auc_text, xy=(1,0), xycoords='axes fraction', textcoords='offset points', ha='right', va='bottom')\n",
    "    # show the plot\n",
    "    plt.show()\n",
    "    return list_auc\n",
    "\n",
    "def Leave_One_Out(X, y): \n",
    "    cv = LeaveOneOut()\n",
    "    predictions = []\n",
    "    actuals = []\n",
    "    labels = []\n",
    "    for train_idx, test_idx in cv.split(X, y): \n",
    "        X_train, X_test = [X[i] for i in train_idx], [X[i] for i in test_idx]\n",
    "        y_train, y_test = y[train_idx], y[test_idx]\n",
    "        model = Net(X_train[0].shape)\n",
    "        train_model(X_train, np.array(y_train), model)\n",
    "        for i in trange(len(X_test)):\n",
    "            inputs = X_test[i]\n",
    "            targets = torch.from_numpy(y_test[i].astype(np.float32))\n",
    "            yhat = model(inputs)[0]\n",
    "            yhat = yhat.detach().numpy()\n",
    "            predictions += list(yhat)\n",
    "            actuals += list(targets)\n",
    "            labels += list(y_test)\n",
    "    ns_probs = [0 for _ in range(len(predictions))]\n",
    "    ns_auc = roc_auc_score(y, ns_probs)\n",
    "    lr_auc = roc_auc_score(actuals, predictions)\n",
    "    ns_fpr, ns_tpr, _ = roc_curve(labels, ns_probs)\n",
    "    lr_fpr, lr_tpr, _ = roc_curve(labels, predictions)\n",
    "    plt.plot(ns_fpr, ns_tpr, linestyle='--', label='No Skill')\n",
    "    plt.plot(lr_fpr, lr_tpr, marker='.', label='Fully-connected layer')\n",
    "    # axis labels\n",
    "    plt.xlabel('False Positive Rate')\n",
    "    plt.ylabel('True Positive Rate')\n",
    "    # plot text\n",
    "    auc_text = \"AUC: {:.2f}\".format(np.mean(lr_auc))\n",
    "    plt.annotate(auc_text, xy=(1,0), xycoords='axes fraction', textcoords='offset points', ha='right', va='bottom')\n",
    "    # show the plot\n",
    "    plt.show()\n",
    "        \n",
    "            \n",
    "def evaluate_model(X_test, y_test, model, cv=False):\n",
    "    yhat = model(X_test).detach().numpy()\n",
    "    predictions, actuals = vstack(yhat), vstack(y_test)\n",
    "    \n",
    "    # calculate AUC \n",
    "    ns_probs = [0 for _ in range(len(X_test))]\n",
    "    ns_auc = roc_auc_score(actuals, ns_probs)\n",
    "    lr_auc = roc_auc_score(actuals, predictions) \n",
    "    \n",
    "    # calculate roc curves\n",
    "    ns_fpr, ns_tpr, _ = roc_curve(y_test, ns_probs)\n",
    "    lr_fpr, lr_tpr, _ = roc_curve(y_test, predictions)\n",
    "    \n",
    "    if cv: return lr_auc, lr_fpr, lr_tpr \n",
    "    \n",
    "    # summarize scores\n",
    "    print('No skill: ROC AUC=%.3f' % (ns_auc))\n",
    "    print('Fully-connected layer: ROC AUC=%.3f' % (lr_auc))\n",
    "    \n",
    "    # plot the roc curve for the model\n",
    "    plt.plot(ns_fpr, ns_tpr, linestyle='--', label='No Skill')\n",
    "    plt.plot(lr_fpr, lr_tpr, marker='.', label='Fully-connected layer')\n",
    "    # axis labels\n",
    "    plt.xlabel('False Positive Rate')\n",
    "    plt.ylabel('True Positive Rate')\n",
    "    # show the legend\n",
    "    plt.legend()\n",
    "    # show the plot\n",
    "    plt.show()\n",
    "    \n",
    "\n",
    "def best_lr(X_train, X_test, y_train, y_test): \n",
    "    best = 0\n",
    "    for lr in [1e-5, 1e-4, 1e-3, 1e-2]: \n",
    "        for momentum in range(1, 10):\n",
    "            my_nn = Net(X_train[0].shape)\n",
    "            train_model(X_train, np.array(y_train), my_nn, lr=lr, momentum=momentum/10)\n",
    "            lr_auc = evaluate_model(X_test, np.array(y_test), my_nn)\n",
    "            if lr_auc > best: \n",
    "                best = lr_auc\n",
    "                print(lr_auc)\n",
    "                print(\"lr={}\".format(lr))\n",
    "                print(\"momentum={}\".format(momentum))"
   ]
  },
  {
   "cell_type": "markdown",
   "metadata": {},
   "source": [
    "# Neural network"
   ]
  },
  {
   "cell_type": "markdown",
   "metadata": {},
   "source": [
    "## Train-test split "
   ]
  },
  {
   "cell_type": "code",
   "execution_count": 79,
   "metadata": {},
   "outputs": [
    {
     "name": "stdout",
     "output_type": "stream",
     "text": [
      "No skill: ROC AUC=0.500\n",
      "Fully-connected layer: ROC AUC=0.503\n"
     ]
    },
    {
     "data": {
      "image/png": "[encoded data removed]",
      "text/plain": [
       "<matplotlib.figure.Figure at 0x7fc48d5549b0>"
      ]
     },
     "metadata": {},
     "output_type": "display_data"
    }
   ],
   "source": [
    "my_nn = LoopNet(X_train[0].shape)\n",
    "train_model(X_train, torch.from_numpy(np.array(y_train)).float(), my_nn) \n",
    "evaluate_model(X_test, np.array(y_test), my_nn) # 1e-4, 0.6"
   ]
  },
  {
   "cell_type": "markdown",
   "metadata": {},
   "source": [
    "## Stratified k-fold cross validation"
   ]
  },
  {
   "cell_type": "code",
   "execution_count": 87,
   "metadata": {},
   "outputs": [
    {
     "name": "stderr",
     "output_type": "stream",
     "text": [
      "/opt/apps/rhel7/Python-GPU-3.6.5/lib/python3.6/site-packages/torch/nn/modules/loss.py:498: UserWarning: Using a target size (torch.Size([209])) that is different to the input size (torch.Size([209, 1])) is deprecated. Please ensure they have the same size.\n",
      "  return F.binary_cross_entropy(input, target, weight=self.weight, reduction=self.reduction)\n",
      "/opt/apps/rhel7/Python-GPU-3.6.5/lib/python3.6/site-packages/torch/nn/modules/loss.py:498: UserWarning: Using a target size (torch.Size([210])) that is different to the input size (torch.Size([210, 1])) is deprecated. Please ensure they have the same size.\n",
      "  return F.binary_cross_entropy(input, target, weight=self.weight, reduction=self.reduction)\n",
      "/opt/apps/rhel7/Python-GPU-3.6.5/lib/python3.6/site-packages/torch/nn/modules/loss.py:498: UserWarning: Using a target size (torch.Size([211])) that is different to the input size (torch.Size([211, 1])) is deprecated. Please ensure they have the same size.\n",
      "  return F.binary_cross_entropy(input, target, weight=self.weight, reduction=self.reduction)\n",
      "/opt/apps/rhel7/Python-GPU-3.6.5/lib/python3.6/site-packages/matplotlib/text.py:2108: UserWarning: You have used the `textcoords` kwarg, but not the `xytext` kwarg.  This can lead to surprising results.\n",
      "  warnings.warn(\"You have used the `textcoords` kwarg, but not \"\n"
     ]
    },
    {
     "data": {
      "image/png": "[encoded data removed]",
      "text/plain": [
       "<matplotlib.figure.Figure at 0x7fc48c240358>"
      ]
     },
     "metadata": {},
     "output_type": "display_data"
    }
   ],
   "source": [
    "list_aucs = stratifiedKFold(list_inputs, np.array(gr_truth))"
   ]
  },
  {
   "cell_type": "code",
   "execution_count": null,
   "metadata": {},
   "outputs": [],
   "source": []
  }
 ],
 "metadata": {
  "kernelspec": {
   "display_name": "Python 3",
   "language": "python",
   "name": "python3"
  },
  "language_info": {
   "codemirror_mode": {
    "name": "ipython",
    "version": 3
   },
   "file_extension": ".py",
   "mimetype": "text/x-python",
   "name": "python",
   "nbconvert_exporter": "python",
   "pygments_lexer": "ipython3",
   "version": "3.6.5"
  }
 },
 "nbformat": 4,
 "nbformat_minor": 2
}
