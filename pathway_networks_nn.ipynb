{
 "cells": [
  {
   "cell_type": "code",
   "execution_count": 25,
   "metadata": {},
   "outputs": [],
   "source": [
    "import pandas as pd\n",
    "import numpy as np\n",
    "from numpy import vstack, mean, std\n",
    "import h5py\n",
    "import torch\n",
    "from sklearn.metrics import accuracy_score, roc_curve, roc_auc_score\n",
    "from sklearn import metrics \n",
    "from sklearn.model_selection import train_test_split, LeaveOneOut, StratifiedKFold\n",
    "from matplotlib import pyplot as plt\n",
    "from torch.utils.data import Dataset, DataLoader, random_split \n",
    "from torch import Tensor, nn\n",
    "from torch.nn import Linear, Sigmoid, Module, BCELoss \n",
    "import torch.nn.functional as F\n",
    "from torch.optim import SGD\n",
    "from preprocessing import preprocess\n",
    "from get_symbol import get_symbol\n",
    "from prediction_pipeline import *\n",
    "import random"
   ]
  },
  {
   "cell_type": "markdown",
   "metadata": {},
   "source": [
    "# Load and prepare data"
   ]
  },
  {
   "cell_type": "code",
   "execution_count": 3,
   "metadata": {},
   "outputs": [],
   "source": [
    "def load_data(expression_path, libraries, gr_truth_path): \n",
    "    norm = get_expression_data(expression_path)\n",
    "    binary_matrix = get_binary_matrix(norm.index, libraries)\n",
    "    gr_truth = get_gr_truth(norm.columns, gr_truth_path)\n",
    "    list_inputs = prepare_data(norm, binary_matrix)\n",
    "    return list_inputs, gr_truth\n",
    "\n",
    "def get_expression_data(expression_path): \n",
    "    f = pd.read_csv(expression_path)\n",
    "    f.index = f.iloc[:, 0] # Make ENSG genes as row indexing \n",
    "    f = f.iloc[:, 1:] # Remove first index column \n",
    "    # Normalize data \n",
    "    norm = preprocess(f)\n",
    "    # Convert Ensembl number index to gene symbol\n",
    "    norm = get_symbol(norm)\n",
    "    return norm \n",
    "\n",
    "def get_binary_matrix(gene_expr, libraries):\n",
    "    function_to_genes = {}\n",
    "    set_genes = set()\n",
    "    for lib in libraries: \n",
    "        f2g, genes = gene_set_dictionaries(lib)\n",
    "        function_to_genes.update(f2g)\n",
    "        set_genes = set_genes | set(genes)\n",
    "    common_genes = list(set_genes & set(gene_expr))\n",
    "    binary_matrix = gs_binary_matrix(function_to_genes, set_genes).loc[common_genes]\n",
    "    return binary_matrix\n",
    "\n",
    "def get_gr_truth(list_samples, gr_truth_path):\n",
    "    gr_truth = pd.read_csv(gr_truth_path, sep='\\t')\n",
    "    gr_truth = gr_truth.iloc[10, 1:]\n",
    "    idx = [ \"_\".join(i.split(\"_\")[:2]) for i in gr_truth.index ]\n",
    "    gr_truth.index = idx\n",
    "    gr_truth = pd.DataFrame(gr_truth).loc[list_samples]\n",
    "    test = [ 1.0 if res[-3:] == 'POS' else 0.0 for res in gr_truth.iloc[:, 0] ]\n",
    "    gr_truth.iloc[:, 0] = test\n",
    "    gr_truth.columns = [\"Truth\"]\n",
    "    return gr_truth\n",
    "\n",
    "def prepare_data(norm, binary_matrix):\n",
    "    # load the dataset\n",
    "    list_inputs = []\n",
    "    common_genes = set(binary_matrix.index) & set(norm.index)\n",
    "    bm = binary_matrix.loc[common_genes]\n",
    "    bm_tens = torch.tensor(bm.T.values)\n",
    "    for sample in norm.columns: \n",
    "        item = torch.mul(bm_tens, torch.tensor(norm.loc[common_genes, sample].values))\n",
    "        list_inputs.append(np.array(item).astype(np.float32))\n",
    "    return list_inputs "
   ]
  },
  {
   "cell_type": "code",
   "execution_count": 4,
   "metadata": {},
   "outputs": [],
   "source": [
    "# load the data \n",
    "expression_path = 'GSE156063_swab_gene_counts.csv.gz'\n",
    "libraries = ['GO_Biological_Process_2018', 'GO_Molecular_Function_2018', 'GO_Cellular_Component_2018']\n",
    "gr_truth_path = \"GSE156063_series_matrix.txt\"\n",
    "list_inputs, gr_truth = load_data(expression_path, libraries, gr_truth_path) \n",
    "X_train, X_test, y_train, y_test = train_test_split(list_inputs, gr_truth, test_size=0.33, random_state=42) "
   ]
  },
  {
   "cell_type": "markdown",
   "metadata": {},
   "source": [
    "# Neural network"
   ]
  },
  {
   "cell_type": "code",
   "execution_count": 33,
   "metadata": {},
   "outputs": [],
   "source": [
    "class Net(nn.Module):\n",
    "    def __init__(self, shape):\n",
    "        super(Net, self).__init__()\n",
    "        self.fc1 = Linear(shape[1], 1)\n",
    "        self.fc2 = Linear(shape[0], 1)\n",
    "        self.sigmoid = nn.Sigmoid()\n",
    "\n",
    "    # x represents our data\n",
    "    def forward(self, x):\n",
    "        y = torch.from_numpy(x)\n",
    "        y = self.fc1(y)\n",
    "        y = self.fc2(y.T) \n",
    "        y = self.sigmoid(y)\n",
    "        return y\n",
    "\n",
    "# train model \n",
    "def train_model(X_train, y_train, model, lr=1e-4, momentum=0.6): \n",
    "    # define optimization \n",
    "    criterion = BCELoss() \n",
    "    optimizer = SGD(model.parameters(), lr=lr, momentum=momentum) \n",
    "    # enumerate epochs \n",
    "    for epoch in range(100):\n",
    "        # ennumerate mini batches \n",
    "        for i in range(len(X_train)): \n",
    "            inputs = X_train[i]\n",
    "            targets = torch.from_numpy(y_train[i].astype(np.float32))\n",
    "            # clear the gradients \n",
    "            optimizer.zero_grad() \n",
    "            # compute the model output \n",
    "            yhat = model(inputs)[0]\n",
    "            # calculate loss \n",
    "            loss = criterion(yhat, targets)\n",
    "            # credit assignment \n",
    "            loss.backward()\n",
    "            # update model weights \n",
    "            optimizer.step()\n",
    "\n",
    "def cross_validation(X, y, model='StratifiedKFold'): \n",
    "    model_dict = {'StratifiedKFold': StratifiedKFold(n_splits=10), 'LOOCV': LeaveOneOut()}\n",
    "    cv = model_dict[model]\n",
    "    list_auc = []\n",
    "    ns_probs = [0 for _ in range(len(X))]\n",
    "    ns_auc = roc_auc_score(y, ns_probs)\n",
    "    ns_fpr, ns_tpr, _ = roc_curve(y, ns_probs)\n",
    "    plt.plot(ns_fpr, ns_tpr, linestyle='--', label='No Skill')\n",
    "    for train_idx, test_idx in cv.split(X, y): \n",
    "        X_train, X_test = [X[i] for i in train_idx], [X[i] for i in test_idx]\n",
    "        y_train, y_test = y[train_idx], y[test_idx]\n",
    "        model = Net(X_train[0].shape)\n",
    "        train_model(X_train, np.array(y_train), model)\n",
    "        lr_auc, lr_fpr, lr_tpr = evaluate_model(X_test, y_test, model, cv=True)\n",
    "        list_auc.append(lr_auc) \n",
    "        plt.plot(lr_fpr, lr_tpr, marker='.')\n",
    "    # axis labels\n",
    "    plt.xlabel('False Positive Rate')\n",
    "    plt.ylabel('True Positive Rate')\n",
    "    # plot text\n",
    "    auc_text = \"Avg AUC: {:.2f}\".format(np.mean(list_auc))\n",
    "    plt.annotate(auc_text, xy=(1,0), xycoords='axes fraction', textcoords='offset points', ha='right', va='bottom')\n",
    "    # show the plot\n",
    "    plt.show()\n",
    "    return list_auc\n",
    "        \n",
    "            \n",
    "def evaluate_model(X_test, y_test, model, cv=False): \n",
    "    predictions, actuals = [], [] \n",
    "    for i in range(len(X_test)): \n",
    "        inputs = X_test[i]\n",
    "        targets = torch.from_numpy(y_test[i].astype(np.float32))\n",
    "        # evaluate model on test set \n",
    "        yhat = model(inputs)[0]\n",
    "        # retrieve numpy array \n",
    "        yhat = yhat.detach().numpy() \n",
    "        # store \n",
    "        predictions.append(yhat)\n",
    "        actuals.append(targets) \n",
    "    predictions, actuals = vstack(predictions), vstack(actuals)\n",
    "    \n",
    "    # calculate AUC \n",
    "    ns_probs = [0 for _ in range(len(X_test))]\n",
    "    ns_auc = roc_auc_score(actuals, ns_probs)\n",
    "    lr_auc = roc_auc_score(actuals, predictions) \n",
    "    \n",
    "    # calculate roc curves\n",
    "    ns_fpr, ns_tpr, _ = roc_curve(y_test, ns_probs)\n",
    "    lr_fpr, lr_tpr, _ = roc_curve(y_test, predictions)\n",
    "    \n",
    "    if cv: return lr_auc, lr_fpr, lr_tpr \n",
    "    \n",
    "    # summarize scores\n",
    "    print('No skill: ROC AUC=%.3f' % (ns_auc))\n",
    "    print('Fully-connected layer: ROC AUC=%.3f' % (lr_auc))\n",
    "    \n",
    "    # plot the roc curve for the model\n",
    "    plt.plot(ns_fpr, ns_tpr, linestyle='--', label='No Skill')\n",
    "    plt.plot(lr_fpr, lr_tpr, marker='.', label='Fully-connected layer')\n",
    "    # axis labels\n",
    "    plt.xlabel('False Positive Rate')\n",
    "    plt.ylabel('True Positive Rate')\n",
    "    # show the legend\n",
    "    plt.legend()\n",
    "    # show the plot\n",
    "    plt.show()\n",
    "    \n",
    "\n",
    "def best_lr(X_train, X_test, y_train, y_test): \n",
    "    best = 0\n",
    "    for lr in [1e-5, 1e-4, 1e-3, 1e-2]: \n",
    "        for momentum in range(1, 10):\n",
    "            my_nn = Net(X_train[0].shape)\n",
    "            train_model(X_train, np.array(y_train), my_nn, lr=lr, momentum=momentum/10)\n",
    "            lr_auc = evaluate_model(X_test, np.array(y_test), my_nn)\n",
    "            if lr_auc > best: \n",
    "                best = lr_auc\n",
    "                print(lr_auc)\n",
    "                print(\"lr={}\".format(lr))\n",
    "                print(\"momentum={}\".format(momentum))"
   ]
  },
  {
   "cell_type": "markdown",
   "metadata": {},
   "source": [
    "## Train-test split"
   ]
  },
  {
   "cell_type": "code",
   "execution_count": 28,
   "metadata": {
    "scrolled": true
   },
   "outputs": [
    {
     "name": "stdout",
     "output_type": "stream",
     "text": [
      "No skill: ROC AUC=0.500\n",
      "Fully-connected layer: ROC AUC=0.904\n"
     ]
    },
    {
     "data": {
      "image/png": "[encoded data removed]",
      "text/plain": [
       "<matplotlib.figure.Figure at 0x7ff73e3b96a0>"
      ]
     },
     "metadata": {},
     "output_type": "display_data"
    }
   ],
   "source": [
    "my_nn = Net(X_train[0].shape)\n",
    "train_model(X_train, np.array(y_train), my_nn) \n",
    "evaluate_model(X_test, np.array(y_test), my_nn) # 1e-4, 0.6"
   ]
  },
  {
   "cell_type": "markdown",
   "metadata": {},
   "source": [
    "## Stratified k-fold cross-validation"
   ]
  },
  {
   "cell_type": "code",
   "execution_count": 34,
   "metadata": {
    "scrolled": true
   },
   "outputs": [
    {
     "name": "stderr",
     "output_type": "stream",
     "text": [
      "/opt/apps/rhel7/Python-GPU-3.6.5/lib/python3.6/site-packages/matplotlib/text.py:2108: UserWarning: You have used the `textcoords` kwarg, but not the `xytext` kwarg.  This can lead to surprising results.\n",
      "  warnings.warn(\"You have used the `textcoords` kwarg, but not \"\n"
     ]
    },
    {
     "data": {
      "image/png": "[encoded data removed]",
      "text/plain": [
       "<matplotlib.figure.Figure at 0x7ff73cd90668>"
      ]
     },
     "metadata": {},
     "output_type": "display_data"
    },
    {
     "ename": "NameError",
     "evalue": "name 'list_aucs' is not defined",
     "output_type": "error",
     "traceback": [
      "\u001b[0;31m---------------------------------------------------------------------------\u001b[0m",
      "\u001b[0;31mNameError\u001b[0m                                 Traceback (most recent call last)",
      "\u001b[0;32m<ipython-input-34-7fc237cd9e31>\u001b[0m in \u001b[0;36m<module>\u001b[0;34m()\u001b[0m\n\u001b[0;32m----> 1\u001b[0;31m \u001b[0mlist_aucs\u001b[0m \u001b[0;34m=\u001b[0m \u001b[0mcross_validation\u001b[0m\u001b[0;34m(\u001b[0m\u001b[0mlist_inputs\u001b[0m\u001b[0;34m,\u001b[0m \u001b[0mnp\u001b[0m\u001b[0;34m.\u001b[0m\u001b[0marray\u001b[0m\u001b[0;34m(\u001b[0m\u001b[0mgr_truth\u001b[0m\u001b[0;34m)\u001b[0m\u001b[0;34m,\u001b[0m \u001b[0mmodel\u001b[0m\u001b[0;34m=\u001b[0m\u001b[0;34m'StratifiedKFold'\u001b[0m\u001b[0;34m)\u001b[0m\u001b[0;34m\u001b[0m\u001b[0m\n\u001b[0m",
      "\u001b[0;32m<ipython-input-33-a52e0e383a59>\u001b[0m in \u001b[0;36mcross_validation\u001b[0;34m(X, y, model)\u001b[0m\n\u001b[1;32m     60\u001b[0m     \u001b[0;31m# show the plot\u001b[0m\u001b[0;34m\u001b[0m\u001b[0;34m\u001b[0m\u001b[0m\n\u001b[1;32m     61\u001b[0m     \u001b[0mplt\u001b[0m\u001b[0;34m.\u001b[0m\u001b[0mshow\u001b[0m\u001b[0;34m(\u001b[0m\u001b[0;34m)\u001b[0m\u001b[0;34m\u001b[0m\u001b[0m\n\u001b[0;32m---> 62\u001b[0;31m     \u001b[0;32mreturn\u001b[0m \u001b[0mlist_aucs\u001b[0m\u001b[0;34m\u001b[0m\u001b[0m\n\u001b[0m\u001b[1;32m     63\u001b[0m \u001b[0;34m\u001b[0m\u001b[0m\n\u001b[1;32m     64\u001b[0m \u001b[0;34m\u001b[0m\u001b[0m\n",
      "\u001b[0;31mNameError\u001b[0m: name 'list_aucs' is not defined"
     ]
    }
   ],
   "source": [
    "list_aucs = cross_validation(list_inputs, np.array(gr_truth), model='StratifiedKFold')"
   ]
  },
  {
   "cell_type": "code",
   "execution_count": null,
   "metadata": {},
   "outputs": [],
   "source": []
  }
 ],
 "metadata": {
  "kernelspec": {
   "display_name": "Python 3",
   "language": "python",
   "name": "python3"
  },
  "language_info": {
   "codemirror_mode": {
    "name": "ipython",
    "version": 3
   },
   "file_extension": ".py",
   "mimetype": "text/x-python",
   "name": "python",
   "nbconvert_exporter": "python",
   "pygments_lexer": "ipython3",
   "version": "3.6.5"
  }
 },
 "nbformat": 4,
 "nbformat_minor": 2
}
