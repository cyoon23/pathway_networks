{
 "cells": [
  {
   "cell_type": "code",
   "execution_count": 2,
   "metadata": {},
   "outputs": [
    {
     "name": "stderr",
     "output_type": "stream",
     "text": [
      "/opt/apps/rhel7/Python-GPU-3.6.5/lib/python3.6/site-packages/h5py/__init__.py:36: FutureWarning: Conversion of the second argument of issubdtype from `float` to `np.floating` is deprecated. In future, it will be treated as `np.float64 == np.dtype(float).type`.\n",
      "  from ._conv import register_converters as _register_converters\n"
     ]
    }
   ],
   "source": [
    "import pandas as pd\n",
    "import numpy as np\n",
    "from numpy import vstack, mean, std\n",
    "import h5py\n",
    "import torch\n",
    "from sklearn.metrics import accuracy_score, roc_curve, roc_auc_score\n",
    "from sklearn import metrics \n",
    "from matplotlib import pyplot as plt\n",
    "from torch.utils.data import Dataset, DataLoader, random_split \n",
    "from torch import Tensor \n",
    "from torch.nn import Linear, Sigmoid, Module, BCELoss \n",
    "from torch.optim import SGD\n",
    "from preprocessing import preprocess\n",
    "from get_symbol import get_symbol\n",
    "from prediction_pipeline import *"
   ]
  },
  {
   "cell_type": "markdown",
   "metadata": {},
   "source": [
    "# Load and prepare data"
   ]
  },
  {
   "cell_type": "code",
   "execution_count": 13,
   "metadata": {},
   "outputs": [],
   "source": [
    "def load_data(expression_path, libraries, gr_truth_path): \n",
    "    norm = get_expression_data(expression_path)\n",
    "    binary_matrix = get_binary_matrix(norm.index, libraries)\n",
    "    gr_truth = get_gr_truth(norm.columns, gr_truth_path)\n",
    "    return norm, binary_matrix, gr_truth\n",
    "\n",
    "def get_expression_data(expression_path): \n",
    "    f = pd.read_csv(expression_path)\n",
    "    f.index = f.iloc[:, 0] # Make ENSG genes as row indexing \n",
    "    f = f.iloc[:, 1:] # Remove first index column \n",
    "    # Normalize data \n",
    "    norm = preprocess(f)\n",
    "    # Convert Ensembl number index to gene symbol\n",
    "    norm = get_symbol(norm)\n",
    "    return norm \n",
    "\n",
    "def get_binary_matrix(gene_expr, libraries):\n",
    "    function_to_genes = {}\n",
    "    set_genes = set()\n",
    "    for lib in libraries: \n",
    "        f2g, genes = gene_set_dictionaries(lib)\n",
    "        function_to_genes.update(f2g)\n",
    "        set_genes = set_genes | set(genes)\n",
    "    common_genes = list(set_genes & set(gene_expr))\n",
    "    binary_matrix = gs_binary_matrix(function_to_genes, set_genes).loc[common_genes]\n",
    "    return binary_matrix\n",
    "\n",
    "def get_gr_truth(list_samples, gr_truth_path):\n",
    "    gr_truth = pd.read_csv(gr_truth_path, sep='\\t')\n",
    "    gr_truth = gr_truth.iloc[10, 1:]\n",
    "    idx = [ \"_\".join(i.split(\"_\")[:2]) for i in gr_truth.index ]\n",
    "    gr_truth.index = idx\n",
    "    gr_truth = pd.DataFrame(gr_truth).loc[list_samples]\n",
    "    test = [ 1.0 if res[-3:] == 'POS' else 0.0 for res in gr_truth.iloc[:, 0] ]\n",
    "    gr_truth.iloc[:, 0] = test\n",
    "    gr_truth.columns = [\"Truth\"]\n",
    "    return gr_truth\n",
    "\n",
    "def prepare_data(norm, binary_matrix, gr_truth):\n",
    "    # load the dataset\n",
    "    list_inputs = []\n",
    "    common_genes = set(binary_matrix.index) & set(norm.index)\n",
    "    bm = binary_matrix.loc[common_genes]\n",
    "    bm_tens = torch.tensor(bm.T.values)\n",
    "    for sample in norm.columns: \n",
    "        item = torch.mul(bm_tens, torch.tensor(norm.loc[common_genes, sample].values))\n",
    "        list_inputs.append(np.array(item).astype(np.float32))\n",
    "    dataset = CSVDataset(list_inputs, gr_truth) \n",
    "    # calculate split \n",
    "    train, test = dataset.get_splits()\n",
    "    # prepare data loaders \n",
    "    train_dl = DataLoader(train, batch_size=32, shuffle=True)\n",
    "    test_dl = DataLoader(test, batch_size=32, shuffle=False)\n",
    "    return train_dl, test_dl\n",
    "    \n",
    "class CSVDataset(Dataset):\n",
    "    # load the dataset\n",
    "    def __init__(self, expr_by_path, gr_truth): \n",
    "        # store the inputs and outputs \n",
    "        self.X = expr_by_path\n",
    "        self.y = np.array(gr_truth)\n",
    "        # ensure input data is floats \n",
    "        self.y = self.y.astype('float32').reshape((len(self.y), 1))\n",
    "        \n",
    "    # number of rows in dataset \n",
    "    def __len__(self): \n",
    "        return len(self.X)\n",
    "    \n",
    "    # get a row at an index\n",
    "    def __getitem__(self, idx):\n",
    "        return [self.X[idx], self.y[idx]]\n",
    "\n",
    "    # get indexes for train and test rows\n",
    "    def get_splits(self, n_test=0.33): \n",
    "        # determine sizes \n",
    "        test_size = round(n_test * len(self.X))\n",
    "        train_size = len(self.X) - test_size\n",
    "        # calculate split\n",
    "        return random_split(self, [train_size, test_size])\n",
    "    \n",
    "# model definition\n",
    "class MLP(Module): \n",
    "    # define model elements \n",
    "    def __init__(self, n_inputs):\n",
    "        super(MLP, self).__init__()\n",
    "        # input to first hidden layer \n",
    "        self.hidden = Linear(n_inputs, 1)\n",
    "        # output\n",
    "        self.act = Sigmoid()\n",
    "    \n",
    "    # forward propagate input \n",
    "    def forward(self, X): \n",
    "        # input to first hidden layer \n",
    "        X = self.hidden(X) \n",
    "        # output \n",
    "        X = self.act(X)\n",
    "        return X\n",
    "    \n",
    "# train the model\n",
    "def train_model(train_dl, model):\n",
    "    # define optimization\n",
    "    criterion = BCELoss()\n",
    "    optimizer = SGD(model.parameters(), lr=0.01, momentum=0.9)\n",
    "    # enumerate epochs \n",
    "    for epoch in range(100):\n",
    "        # enumerate mini batches\n",
    "        for i, (inputs, targets) in enumerate(train_dl): \n",
    "            # clear the gradients \n",
    "            optimizer.zero_grad()\n",
    "            # compute model output  \n",
    "            yhat = model(inputs)\n",
    "            # calculate loss \n",
    "#             loss = criterion(yhat, targets)\n",
    "            # credit assignment\n",
    "#             loss.backward()\n",
    "            # update model weights \n",
    "#             optimizer.step()\n",
    "\n",
    "# evaluate model \n",
    "def evaluate_model(test_dl, model):\n",
    "    # generate no skill prediction\n",
    "    y = [0]*1000\n",
    "    ns_probs = [0 for n in y]\n",
    "    ns_fpr, ns_tpr, _ = roc_curve(y, ns_probs)\n",
    "    plt.plot(ns_fpr, ns_tpr, linestyle='--', color='black')\n",
    "    predictions, actuals = [], []\n",
    "    outer_results = []\n",
    "    summary = [] # how do we get model's parameters?\n",
    "    for i, (inputs, targets) in enumerate(test_dl): \n",
    "        # evaluate model on test set\n",
    "        yhat = model(inputs)\n",
    "        # retrieve numpy array \n",
    "        yhat = yhat.detach().numpy()\n",
    "        actual = targets.numpy()\n",
    "        actual = actual.reshape((len(actual), 1))\n",
    "        # round to class values \n",
    "        yhat = yhat.round()\n",
    "        predictions.append(yhat)\n",
    "        actuals.append(actual)\n",
    "        # auroc\n",
    "        fpr, tpr, _ = roc_curve(yhat, actual)\n",
    "        auc_ = metrics.auc(fpr, tpr)\n",
    "        outer_results.append(auc_)\n",
    "        plt.plot(fpr, tpr, marker='.')\n",
    "        print(auc_)\n",
    "    predictions, actuals = vstack(predictions), vstack(actuals)\n",
    "    # calculate accuracy\n",
    "    acc = accuracy_score(actuals, predictions)\n",
    "    print('AUC: %.3f (%.3f)' % (mean(outer_results), std(outer_results)))\n",
    "    # axis labels\n",
    "    plt.xlabel('False Positive Rate')\n",
    "    plt.ylabel('True Positive Rate')\n",
    "    # show the plot\n",
    "    plt.show()\n",
    "\n",
    "# make class prediction for one row of data \n",
    "def predict(row, model):\n",
    "    # convert row to data \n",
    "    row = Tensor([row])\n",
    "    # make prediction\n",
    "    yhat = model(row)\n",
    "    # retrieve numpy array \n",
    "    yhat = yhat.detach().numpy()\n",
    "    return yhat"
   ]
  },
  {
   "cell_type": "code",
   "execution_count": 4,
   "metadata": {},
   "outputs": [],
   "source": [
    "# load the data \n",
    "expression_path = 'GSE156063_swab_gene_counts.csv.gz'\n",
    "libraries = ['GO_Biological_Process_2018', 'GO_Molecular_Function_2018', 'GO_Cellular_Component_2018']\n",
    "gr_truth_path = \"GSE156063_series_matrix.txt\"\n",
    "norm, binary_matrix, gr_truth = load_data(expression_path, libraries, gr_truth_path) "
   ]
  },
  {
   "cell_type": "code",
   "execution_count": 5,
   "metadata": {
    "scrolled": true
   },
   "outputs": [],
   "source": [
    "train_dl, test_dl = prepare_data(norm, binary_matrix, gr_truth)"
   ]
  },
  {
   "cell_type": "code",
   "execution_count": 6,
   "metadata": {},
   "outputs": [
    {
     "name": "stdout",
     "output_type": "stream",
     "text": [
      "157 77\n"
     ]
    }
   ],
   "source": [
    "print(len(train_dl.dataset), len(test_dl.dataset))"
   ]
  },
  {
   "cell_type": "code",
   "execution_count": 14,
   "metadata": {
    "scrolled": true
   },
   "outputs": [],
   "source": [
    "common_genes = set(norm.index) & set(binary_matrix.index)\n",
    "# define the network\n",
    "model = MLP(len(common_genes))"
   ]
  },
  {
   "cell_type": "code",
   "execution_count": 15,
   "metadata": {
    "scrolled": true
   },
   "outputs": [],
   "source": [
    "# train the model\n",
    "train_model(train_dl, model)"
   ]
  },
  {
   "cell_type": "code",
   "execution_count": 17,
   "metadata": {
    "scrolled": true
   },
   "outputs": [
    {
     "name": "stderr",
     "output_type": "stream",
     "text": [
      "/opt/apps/rhel7/Python-GPU-3.6.5/lib/python3.6/site-packages/sklearn/metrics/ranking.py:571: UndefinedMetricWarning: No positive samples in y_true, true positive value should be meaningless\n",
      "  UndefinedMetricWarning)\n"
     ]
    },
    {
     "ename": "ValueError",
     "evalue": "unknown format is not supported",
     "output_type": "error",
     "traceback": [
      "\u001b[0;31m---------------------------------------------------------------------------\u001b[0m",
      "\u001b[0;31mValueError\u001b[0m                                Traceback (most recent call last)",
      "\u001b[0;32m<ipython-input-17-8abc1d34dee5>\u001b[0m in \u001b[0;36m<module>\u001b[0;34m()\u001b[0m\n\u001b[1;32m      1\u001b[0m \u001b[0;31m# evaluate model\u001b[0m\u001b[0;34m\u001b[0m\u001b[0;34m\u001b[0m\u001b[0m\n\u001b[0;32m----> 2\u001b[0;31m \u001b[0mevaluate_model\u001b[0m\u001b[0;34m(\u001b[0m\u001b[0mtest_dl\u001b[0m\u001b[0;34m,\u001b[0m \u001b[0mmodel\u001b[0m\u001b[0;34m)\u001b[0m\u001b[0;34m\u001b[0m\u001b[0m\n\u001b[0m",
      "\u001b[0;32m<ipython-input-13-e12dca60e618>\u001b[0m in \u001b[0;36mevaluate_model\u001b[0;34m(test_dl, model)\u001b[0m\n\u001b[1;32m    139\u001b[0m         \u001b[0mactuals\u001b[0m\u001b[0;34m.\u001b[0m\u001b[0mappend\u001b[0m\u001b[0;34m(\u001b[0m\u001b[0mactual\u001b[0m\u001b[0;34m)\u001b[0m\u001b[0;34m\u001b[0m\u001b[0m\n\u001b[1;32m    140\u001b[0m         \u001b[0;31m# auroc\u001b[0m\u001b[0;34m\u001b[0m\u001b[0;34m\u001b[0m\u001b[0m\n\u001b[0;32m--> 141\u001b[0;31m         \u001b[0mfpr\u001b[0m\u001b[0;34m,\u001b[0m \u001b[0mtpr\u001b[0m\u001b[0;34m,\u001b[0m \u001b[0m_\u001b[0m \u001b[0;34m=\u001b[0m \u001b[0mroc_curve\u001b[0m\u001b[0;34m(\u001b[0m\u001b[0myhat\u001b[0m\u001b[0;34m,\u001b[0m \u001b[0mactual\u001b[0m\u001b[0;34m)\u001b[0m\u001b[0;34m\u001b[0m\u001b[0m\n\u001b[0m\u001b[1;32m    142\u001b[0m         \u001b[0mauc_\u001b[0m \u001b[0;34m=\u001b[0m \u001b[0mmetrics\u001b[0m\u001b[0;34m.\u001b[0m\u001b[0mauc\u001b[0m\u001b[0;34m(\u001b[0m\u001b[0mfpr\u001b[0m\u001b[0;34m,\u001b[0m \u001b[0mtpr\u001b[0m\u001b[0;34m)\u001b[0m\u001b[0;34m\u001b[0m\u001b[0m\n\u001b[1;32m    143\u001b[0m         \u001b[0mouter_results\u001b[0m\u001b[0;34m.\u001b[0m\u001b[0mappend\u001b[0m\u001b[0;34m(\u001b[0m\u001b[0mauc_\u001b[0m\u001b[0;34m)\u001b[0m\u001b[0;34m\u001b[0m\u001b[0m\n",
      "\u001b[0;32m/opt/apps/rhel7/Python-GPU-3.6.5/lib/python3.6/site-packages/sklearn/metrics/ranking.py\u001b[0m in \u001b[0;36mroc_curve\u001b[0;34m(y_true, y_score, pos_label, sample_weight, drop_intermediate)\u001b[0m\n\u001b[1;32m    532\u001b[0m     \"\"\"\n\u001b[1;32m    533\u001b[0m     fps, tps, thresholds = _binary_clf_curve(\n\u001b[0;32m--> 534\u001b[0;31m         y_true, y_score, pos_label=pos_label, sample_weight=sample_weight)\n\u001b[0m\u001b[1;32m    535\u001b[0m \u001b[0;34m\u001b[0m\u001b[0m\n\u001b[1;32m    536\u001b[0m     \u001b[0;31m# Attempt to drop thresholds corresponding to points in between and\u001b[0m\u001b[0;34m\u001b[0m\u001b[0;34m\u001b[0m\u001b[0m\n",
      "\u001b[0;32m/opt/apps/rhel7/Python-GPU-3.6.5/lib/python3.6/site-packages/sklearn/metrics/ranking.py\u001b[0m in \u001b[0;36m_binary_clf_curve\u001b[0;34m(y_true, y_score, pos_label, sample_weight)\u001b[0m\n\u001b[1;32m    316\u001b[0m     if not (y_type == \"binary\" or\n\u001b[1;32m    317\u001b[0m             (y_type == \"multiclass\" and pos_label is not None)):\n\u001b[0;32m--> 318\u001b[0;31m         \u001b[0;32mraise\u001b[0m \u001b[0mValueError\u001b[0m\u001b[0;34m(\u001b[0m\u001b[0;34m\"{0} format is not supported\"\u001b[0m\u001b[0;34m.\u001b[0m\u001b[0mformat\u001b[0m\u001b[0;34m(\u001b[0m\u001b[0my_type\u001b[0m\u001b[0;34m)\u001b[0m\u001b[0;34m)\u001b[0m\u001b[0;34m\u001b[0m\u001b[0m\n\u001b[0m\u001b[1;32m    319\u001b[0m \u001b[0;34m\u001b[0m\u001b[0m\n\u001b[1;32m    320\u001b[0m     \u001b[0mcheck_consistent_length\u001b[0m\u001b[0;34m(\u001b[0m\u001b[0my_true\u001b[0m\u001b[0;34m,\u001b[0m \u001b[0my_score\u001b[0m\u001b[0;34m,\u001b[0m \u001b[0msample_weight\u001b[0m\u001b[0;34m)\u001b[0m\u001b[0;34m\u001b[0m\u001b[0m\n",
      "\u001b[0;31mValueError\u001b[0m: unknown format is not supported"
     ]
    },
    {
     "data": {
      "image/png": "[encoded data removed]",
      "text/plain": [
       "<matplotlib.figure.Figure at 0x7fb8d5683f60>"
      ]
     },
     "metadata": {},
     "output_type": "display_data"
    }
   ],
   "source": [
    "# evaluate model\n",
    "evaluate_model(test_dl, model)"
   ]
  },
  {
   "cell_type": "code",
   "execution_count": null,
   "metadata": {
    "scrolled": true
   },
   "outputs": [
    {
     "name": "stdout",
     "output_type": "stream",
     "text": [
      "tensor([[[0.4874],\n",
      "         [0.5657],\n",
      "         [0.4912],\n",
      "         ...,\n",
      "         [0.6199],\n",
      "         [0.6887],\n",
      "         [0.5088]],\n",
      "\n",
      "        [[0.4829],\n",
      "         [0.5724],\n",
      "         [0.4865],\n",
      "         ...,\n",
      "         [0.6151],\n",
      "         [0.6793],\n",
      "         [0.5117]],\n",
      "\n",
      "        [[0.4877],\n",
      "         [0.5606],\n",
      "         [0.4942],\n",
      "         ...,\n",
      "         [0.6219],\n",
      "         [0.6913],\n",
      "         [0.5105]],\n",
      "\n",
      "        ...,\n",
      "\n",
      "        [[0.4892],\n",
      "         [0.5505],\n",
      "         [0.4927],\n",
      "         ...,\n",
      "         [0.6238],\n",
      "         [0.6815],\n",
      "         [0.5084]],\n",
      "\n",
      "        [[0.4896],\n",
      "         [0.5509],\n",
      "         [0.4966],\n",
      "         ...,\n",
      "         [0.6227],\n",
      "         [0.6873],\n",
      "         [0.5101]],\n",
      "\n",
      "        [[0.4938],\n",
      "         [0.5474],\n",
      "         [0.4869],\n",
      "         ...,\n",
      "         [0.6151],\n",
      "         [0.6821],\n",
      "         [0.5102]]], grad_fn=<SigmoidBackward>)\n",
      "tensor([[0.],\n",
      "        [0.],\n",
      "        [0.],\n",
      "        [0.],\n",
      "        [1.],\n",
      "        [0.],\n",
      "        [0.],\n",
      "        [0.],\n",
      "        [0.],\n",
      "        [1.],\n",
      "        [0.],\n",
      "        [1.],\n",
      "        [1.],\n",
      "        [0.],\n",
      "        [0.],\n",
      "        [0.],\n",
      "        [0.],\n",
      "        [0.],\n",
      "        [0.],\n",
      "        [0.],\n",
      "        [1.],\n",
      "        [0.],\n",
      "        [0.],\n",
      "        [1.],\n",
      "        [0.],\n",
      "        [1.],\n",
      "        [0.],\n",
      "        [0.],\n",
      "        [1.],\n",
      "        [0.],\n",
      "        [0.],\n",
      "        [0.]])\n"
     ]
    }
   ],
   "source": [
    "criterion = BCELoss()\n",
    "for i, (inputs, targets) in enumerate(test_dl): \n",
    "    yhat = model(inputs)\n",
    "    t = targets \n",
    "    print(yhat)\n",
    "    print(t)"
   ]
  },
  {
   "cell_type": "code",
   "execution_count": 174,
   "metadata": {},
   "outputs": [
    {
     "data": {
      "text/plain": [
       "torch.Size([6700, 12639])"
      ]
     },
     "execution_count": 174,
     "metadata": {},
     "output_type": "execute_result"
    }
   ],
   "source": [
    "common_genes = set(binary_matrix.index) & set(norm.index)\n",
    "bm = binary_matrix.loc[common_genes]\n",
    "bm_tens = torch.tensor(bm.T.values)\n",
    "bm_tens.shape"
   ]
  },
  {
   "cell_type": "code",
   "execution_count": 182,
   "metadata": {},
   "outputs": [
    {
     "data": {
      "text/plain": [
       "torch.Size([12639])"
      ]
     },
     "execution_count": 182,
     "metadata": {},
     "output_type": "execute_result"
    }
   ],
   "source": [
    "y = torch.tensor(norm.loc[common_genes].iloc[:,0].values)\n",
    "y.shape"
   ]
  },
  {
   "cell_type": "code",
   "execution_count": 183,
   "metadata": {},
   "outputs": [
    {
     "data": {
      "text/plain": [
       "torch.Size([6700, 12639])"
      ]
     },
     "execution_count": 183,
     "metadata": {},
     "output_type": "execute_result"
    }
   ],
   "source": [
    "torch.mul(bm_tens, y).shape"
   ]
  },
  {
   "cell_type": "markdown",
   "metadata": {},
   "source": [
    "# Neural network"
   ]
  },
  {
   "cell_type": "code",
   "execution_count": null,
   "metadata": {},
   "outputs": [],
   "source": []
  },
  {
   "cell_type": "code",
   "execution_count": null,
   "metadata": {},
   "outputs": [],
   "source": []
  }
 ],
 "metadata": {
  "kernelspec": {
   "display_name": "Python 3",
   "language": "python",
   "name": "python3"
  },
  "language_info": {
   "codemirror_mode": {
    "name": "ipython",
    "version": 3
   },
   "file_extension": ".py",
   "mimetype": "text/x-python",
   "name": "python",
   "nbconvert_exporter": "python",
   "pygments_lexer": "ipython3",
   "version": "3.6.5"
  }
 },
 "nbformat": 4,
 "nbformat_minor": 2
}
