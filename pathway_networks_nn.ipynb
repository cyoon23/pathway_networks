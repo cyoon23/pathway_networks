{
 "cells": [
  {
   "cell_type": "code",
   "execution_count": 1,
   "metadata": {},
   "outputs": [
    {
     "name": "stderr",
     "output_type": "stream",
     "text": [
      "/opt/apps/rhel7/Python-GPU-3.6.5/lib/python3.6/site-packages/h5py/__init__.py:36: FutureWarning: Conversion of the second argument of issubdtype from `float` to `np.floating` is deprecated. In future, it will be treated as `np.float64 == np.dtype(float).type`.\n",
      "  from ._conv import register_converters as _register_converters\n"
     ]
    }
   ],
   "source": [
    "import pandas as pd\n",
    "import numpy as np\n",
    "from numpy import vstack, mean, std\n",
    "import h5py\n",
    "import torch\n",
    "from sklearn.metrics import accuracy_score, roc_curve, roc_auc_score\n",
    "from sklearn import metrics \n",
    "from matplotlib import pyplot as plt\n",
    "from torch.utils.data import Dataset, DataLoader, random_split \n",
    "from torch import Tensor, nn\n",
    "from torch.nn import Linear, Sigmoid, Module, BCELoss \n",
    "import torch.nn.functional as F\n",
    "from torch.optim import SGD\n",
    "from preprocessing import preprocess\n",
    "from get_symbol import get_symbol\n",
    "from prediction_pipeline import *"
   ]
  },
  {
   "cell_type": "markdown",
   "metadata": {},
   "source": [
    "# Load and prepare data"
   ]
  },
  {
   "cell_type": "code",
   "execution_count": 85,
   "metadata": {},
   "outputs": [],
   "source": [
    "def load_data(expression_path, libraries, gr_truth_path): \n",
    "    norm = get_expression_data(expression_path)\n",
    "    binary_matrix = get_binary_matrix(norm.index, libraries)\n",
    "    gr_truth = get_gr_truth(norm.columns, gr_truth_path)\n",
    "    list_inputs = prepare_data(norm, binary_matrix)\n",
    "    return list_inputs, gr_truth\n",
    "\n",
    "def get_expression_data(expression_path): \n",
    "    f = pd.read_csv(expression_path)\n",
    "    f.index = f.iloc[:, 0] # Make ENSG genes as row indexing \n",
    "    f = f.iloc[:, 1:] # Remove first index column \n",
    "    # Normalize data \n",
    "    norm = preprocess(f)\n",
    "    # Convert Ensembl number index to gene symbol\n",
    "    norm = get_symbol(norm)\n",
    "    return norm \n",
    "\n",
    "def get_binary_matrix(gene_expr, libraries):\n",
    "    function_to_genes = {}\n",
    "    set_genes = set()\n",
    "    for lib in libraries: \n",
    "        f2g, genes = gene_set_dictionaries(lib)\n",
    "        function_to_genes.update(f2g)\n",
    "        set_genes = set_genes | set(genes)\n",
    "    common_genes = list(set_genes & set(gene_expr))\n",
    "    binary_matrix = gs_binary_matrix(function_to_genes, set_genes).loc[common_genes]\n",
    "    return binary_matrix\n",
    "\n",
    "def get_gr_truth(list_samples, gr_truth_path):\n",
    "    gr_truth = pd.read_csv(gr_truth_path, sep='\\t')\n",
    "    gr_truth = gr_truth.iloc[10, 1:]\n",
    "    idx = [ \"_\".join(i.split(\"_\")[:2]) for i in gr_truth.index ]\n",
    "    gr_truth.index = idx\n",
    "    gr_truth = pd.DataFrame(gr_truth).loc[list_samples]\n",
    "    test = [ 1.0 if res[-3:] == 'POS' else 0.0 for res in gr_truth.iloc[:, 0] ]\n",
    "    gr_truth.iloc[:, 0] = test\n",
    "    gr_truth.columns = [\"Truth\"]\n",
    "    return gr_truth\n",
    "\n",
    "def prepare_data(norm, binary_matrix):\n",
    "    # load the dataset\n",
    "    list_inputs = []\n",
    "    common_genes = set(binary_matrix.index) & set(norm.index)\n",
    "    bm = binary_matrix.loc[common_genes]\n",
    "    bm_tens = torch.tensor(bm.T.values)\n",
    "    for sample in norm.columns: \n",
    "        item = torch.mul(bm_tens, torch.tensor(norm.loc[common_genes, sample].values))\n",
    "        list_inputs.append(np.array(item).astype(np.float32))\n",
    "    return list_inputs"
   ]
  },
  {
   "cell_type": "code",
   "execution_count": 3,
   "metadata": {},
   "outputs": [],
   "source": [
    "# load the data \n",
    "expression_path = 'GSE156063_swab_gene_counts.csv.gz'\n",
    "libraries = ['GO_Biological_Process_2018', 'GO_Molecular_Function_2018', 'GO_Cellular_Component_2018']\n",
    "gr_truth_path = \"GSE156063_series_matrix.txt\"\n",
    "list_inputs, gr_truth = load_data(expression_path, libraries, gr_truth_path) "
   ]
  },
  {
   "cell_type": "markdown",
   "metadata": {},
   "source": [
    "# Fully-connected layer"
   ]
  },
  {
   "cell_type": "code",
   "execution_count": 86,
   "metadata": {},
   "outputs": [],
   "source": [
    "class Net(nn.Module):\n",
    "    def __init__(self, shape):\n",
    "        super(Net, self).__init__()\n",
    "        self.fc1 = Linear(shape[1], 1)\n",
    "        self.fc2 = Linear(shape[0], 1)\n",
    "        self.sigmoid = nn.Sigmoid()\n",
    "\n",
    "    # x represents our data\n",
    "    def forward(self, x):\n",
    "        total = list()\n",
    "        for i in range(len(x)): \n",
    "            item = torch.from_numpy(x[i])\n",
    "            y = self.fc1(item) \n",
    "            total.append(y)\n",
    "        total = torch.cat(total, 1)\n",
    "        total = torch.transpose(total, 0, 1)\n",
    "        z = self.fc2(total)\n",
    "        z = self.sigmoid(z)\n",
    "        return z\n",
    "\n",
    "def evaluate_model(results, gr_truth): \n",
    "    ns_probs = [0 for _ in range(results.shape[0])]\n",
    "    ns_auc = roc_auc_score(gr_truth, ns_probs)\n",
    "    lr_auc = roc_auc_score(gr_truth, results.detach().numpy())\n",
    "    # summarize scores\n",
    "    print('No Skill: ROC AUC=%.3f' % (ns_auc))\n",
    "    print('Fully-connected layer: ROC AUC=%.3f' % (lr_auc))\n",
    "    # calculate roc curves\n",
    "    ns_fpr, ns_tpr, _ = roc_curve(gr_truth, ns_probs)\n",
    "    lr_fpr, lr_tpr, _ = roc_curve(gr_truth, results.detach().numpy())\n",
    "    # plot the roc curve for the model\n",
    "    plt.plot(ns_fpr, ns_tpr, linestyle='--', label='No Skill')\n",
    "    plt.plot(lr_fpr, lr_tpr, marker='.', label='Fully-connected layer')\n",
    "    # axis labels\n",
    "    plt.xlabel('False Positive Rate')\n",
    "    plt.ylabel('True Positive Rate')\n",
    "    # show the legend\n",
    "    plt.legend()\n",
    "    # show the plot\n",
    "    plt.show()"
   ]
  },
  {
   "cell_type": "code",
   "execution_count": 68,
   "metadata": {
    "scrolled": true
   },
   "outputs": [],
   "source": [
    "my_nn = Net(list_inputs[0].shape)\n",
    "results = my_nn(list_inputs)"
   ]
  },
  {
   "cell_type": "code",
   "execution_count": 83,
   "metadata": {
    "scrolled": true
   },
   "outputs": [
    {
     "name": "stdout",
     "output_type": "stream",
     "text": [
      "No Skill: ROC AUC=0.500\n",
      "Fully-connected layer: ROC AUC=0.630\n"
     ]
    },
    {
     "data": {
      "image/png": "[encoded data removed]",
      "text/plain": [
       "<matplotlib.figure.Figure at 0x7fba4f34b198>"
      ]
     },
     "metadata": {},
     "output_type": "display_data"
    }
   ],
   "source": [
    "evaluate_model(results, gr_truth)"
   ]
  }
 ],
 "metadata": {
  "kernelspec": {
   "display_name": "Python 3",
   "language": "python",
   "name": "python3"
  },
  "language_info": {
   "codemirror_mode": {
    "name": "ipython",
    "version": 3
   },
   "file_extension": ".py",
   "mimetype": "text/x-python",
   "name": "python",
   "nbconvert_exporter": "python",
   "pygments_lexer": "ipython3",
   "version": "3.6.5"
  }
 },
 "nbformat": 4,
 "nbformat_minor": 2
}
