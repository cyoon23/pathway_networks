{
 "cells": [
  {
   "cell_type": "code",
   "execution_count": 1,
   "metadata": {},
   "outputs": [
    {
     "name": "stderr",
     "output_type": "stream",
     "text": [
      "/opt/apps/rhel7/Python-GPU-3.6.5/lib/python3.6/site-packages/h5py/__init__.py:36: FutureWarning: Conversion of the second argument of issubdtype from `float` to `np.floating` is deprecated. In future, it will be treated as `np.float64 == np.dtype(float).type`.\n",
      "  from ._conv import register_converters as _register_converters\n"
     ]
    }
   ],
   "source": [
    "import pandas as pd\n",
    "import numpy as np\n",
    "from preprocessing import preprocess\n",
    "import h5py\n",
    "import urllib.request\n",
    "import re\n",
    "from maayanlab_bioinformatics.harmonization import ncbi_genes\n",
    "from get_symbol import get_symbol\n",
    "from prediction_pipeline import *\n",
    "import matplotlib.pyplot as plt\n",
    "from sklearn.decomposition import PCA\n",
    "import pickle as pk"
   ]
  },
  {
   "cell_type": "code",
   "execution_count": 2,
   "metadata": {
    "scrolled": true
   },
   "outputs": [],
   "source": [
    "f = pd.read_csv('GSE156063_swab_gene_counts.csv.gz')\n",
    "f.index = f.iloc[:, 0]\n",
    "f = f.iloc[:, 1:]"
   ]
  },
  {
   "cell_type": "code",
   "execution_count": 4,
   "metadata": {},
   "outputs": [
    {
     "data": {
      "text/html": [
       "<div>\n",
       "<style scoped>\n",
       "    .dataframe tbody tr th:only-of-type {\n",
       "        vertical-align: middle;\n",
       "    }\n",
       "\n",
       "    .dataframe tbody tr th {\n",
       "        vertical-align: top;\n",
       "    }\n",
       "\n",
       "    .dataframe thead th {\n",
       "        text-align: right;\n",
       "    }\n",
       "</style>\n",
       "<table border=\"1\" class=\"dataframe\">\n",
       "  <thead>\n",
       "    <tr style=\"text-align: right;\">\n",
       "      <th></th>\n",
       "      <th>RR057e_00202</th>\n",
       "      <th>RR057e_00080</th>\n",
       "      <th>RR057e_00287</th>\n",
       "      <th>RR057e_00753</th>\n",
       "      <th>RR057e_00751</th>\n",
       "      <th>RR057e_00520</th>\n",
       "      <th>RR057e_00505</th>\n",
       "      <th>RR057i_00083</th>\n",
       "      <th>RR057e_00764</th>\n",
       "      <th>RR057e_00451</th>\n",
       "      <th>...</th>\n",
       "      <th>RR057i_00136</th>\n",
       "      <th>RR057i_00137</th>\n",
       "      <th>RR057i_00156</th>\n",
       "      <th>RR057i_00158</th>\n",
       "      <th>RR057e_00719</th>\n",
       "      <th>RR057e_00721</th>\n",
       "      <th>RR057e_00731</th>\n",
       "      <th>RR057e_00728</th>\n",
       "      <th>RR057i_00067</th>\n",
       "      <th>RR057i_00116</th>\n",
       "    </tr>\n",
       "    <tr>\n",
       "      <th>Unnamed: 0</th>\n",
       "      <th></th>\n",
       "      <th></th>\n",
       "      <th></th>\n",
       "      <th></th>\n",
       "      <th></th>\n",
       "      <th></th>\n",
       "      <th></th>\n",
       "      <th></th>\n",
       "      <th></th>\n",
       "      <th></th>\n",
       "      <th></th>\n",
       "      <th></th>\n",
       "      <th></th>\n",
       "      <th></th>\n",
       "      <th></th>\n",
       "      <th></th>\n",
       "      <th></th>\n",
       "      <th></th>\n",
       "      <th></th>\n",
       "      <th></th>\n",
       "      <th></th>\n",
       "    </tr>\n",
       "  </thead>\n",
       "  <tbody>\n",
       "    <tr>\n",
       "      <th>ENSG00000000003</th>\n",
       "      <td>1534</td>\n",
       "      <td>621</td>\n",
       "      <td>1903</td>\n",
       "      <td>2796</td>\n",
       "      <td>416</td>\n",
       "      <td>15</td>\n",
       "      <td>263</td>\n",
       "      <td>834</td>\n",
       "      <td>58</td>\n",
       "      <td>177</td>\n",
       "      <td>...</td>\n",
       "      <td>264</td>\n",
       "      <td>53</td>\n",
       "      <td>578</td>\n",
       "      <td>626</td>\n",
       "      <td>134</td>\n",
       "      <td>1</td>\n",
       "      <td>56</td>\n",
       "      <td>99</td>\n",
       "      <td>297</td>\n",
       "      <td>83</td>\n",
       "    </tr>\n",
       "    <tr>\n",
       "      <th>ENSG00000000419</th>\n",
       "      <td>153</td>\n",
       "      <td>123</td>\n",
       "      <td>221</td>\n",
       "      <td>344</td>\n",
       "      <td>112</td>\n",
       "      <td>20</td>\n",
       "      <td>45</td>\n",
       "      <td>116</td>\n",
       "      <td>26</td>\n",
       "      <td>46</td>\n",
       "      <td>...</td>\n",
       "      <td>83</td>\n",
       "      <td>97</td>\n",
       "      <td>110</td>\n",
       "      <td>132</td>\n",
       "      <td>57</td>\n",
       "      <td>15</td>\n",
       "      <td>19</td>\n",
       "      <td>1</td>\n",
       "      <td>33</td>\n",
       "      <td>19</td>\n",
       "    </tr>\n",
       "    <tr>\n",
       "      <th>ENSG00000000457</th>\n",
       "      <td>295</td>\n",
       "      <td>185</td>\n",
       "      <td>457</td>\n",
       "      <td>626</td>\n",
       "      <td>170</td>\n",
       "      <td>79</td>\n",
       "      <td>164</td>\n",
       "      <td>174</td>\n",
       "      <td>57</td>\n",
       "      <td>95</td>\n",
       "      <td>...</td>\n",
       "      <td>105</td>\n",
       "      <td>170</td>\n",
       "      <td>129</td>\n",
       "      <td>128</td>\n",
       "      <td>66</td>\n",
       "      <td>36</td>\n",
       "      <td>26</td>\n",
       "      <td>31</td>\n",
       "      <td>121</td>\n",
       "      <td>61</td>\n",
       "    </tr>\n",
       "    <tr>\n",
       "      <th>ENSG00000000460</th>\n",
       "      <td>75</td>\n",
       "      <td>108</td>\n",
       "      <td>292</td>\n",
       "      <td>367</td>\n",
       "      <td>49</td>\n",
       "      <td>31</td>\n",
       "      <td>37</td>\n",
       "      <td>57</td>\n",
       "      <td>44</td>\n",
       "      <td>35</td>\n",
       "      <td>...</td>\n",
       "      <td>21</td>\n",
       "      <td>117</td>\n",
       "      <td>44</td>\n",
       "      <td>68</td>\n",
       "      <td>27</td>\n",
       "      <td>9</td>\n",
       "      <td>1</td>\n",
       "      <td>0</td>\n",
       "      <td>24</td>\n",
       "      <td>60</td>\n",
       "    </tr>\n",
       "    <tr>\n",
       "      <th>ENSG00000000938</th>\n",
       "      <td>19</td>\n",
       "      <td>471</td>\n",
       "      <td>1843</td>\n",
       "      <td>284</td>\n",
       "      <td>38</td>\n",
       "      <td>539</td>\n",
       "      <td>495</td>\n",
       "      <td>9</td>\n",
       "      <td>1528</td>\n",
       "      <td>1409</td>\n",
       "      <td>...</td>\n",
       "      <td>139</td>\n",
       "      <td>87</td>\n",
       "      <td>49</td>\n",
       "      <td>133</td>\n",
       "      <td>62</td>\n",
       "      <td>4</td>\n",
       "      <td>3</td>\n",
       "      <td>1</td>\n",
       "      <td>14</td>\n",
       "      <td>0</td>\n",
       "    </tr>\n",
       "    <tr>\n",
       "      <th>...</th>\n",
       "      <td>...</td>\n",
       "      <td>...</td>\n",
       "      <td>...</td>\n",
       "      <td>...</td>\n",
       "      <td>...</td>\n",
       "      <td>...</td>\n",
       "      <td>...</td>\n",
       "      <td>...</td>\n",
       "      <td>...</td>\n",
       "      <td>...</td>\n",
       "      <td>...</td>\n",
       "      <td>...</td>\n",
       "      <td>...</td>\n",
       "      <td>...</td>\n",
       "      <td>...</td>\n",
       "      <td>...</td>\n",
       "      <td>...</td>\n",
       "      <td>...</td>\n",
       "      <td>...</td>\n",
       "      <td>...</td>\n",
       "      <td>...</td>\n",
       "    </tr>\n",
       "    <tr>\n",
       "      <th>ENSG00000287856</th>\n",
       "      <td>40</td>\n",
       "      <td>77</td>\n",
       "      <td>189</td>\n",
       "      <td>62</td>\n",
       "      <td>95</td>\n",
       "      <td>156</td>\n",
       "      <td>61</td>\n",
       "      <td>23</td>\n",
       "      <td>24</td>\n",
       "      <td>70</td>\n",
       "      <td>...</td>\n",
       "      <td>7</td>\n",
       "      <td>72</td>\n",
       "      <td>14</td>\n",
       "      <td>25</td>\n",
       "      <td>5</td>\n",
       "      <td>0</td>\n",
       "      <td>9</td>\n",
       "      <td>0</td>\n",
       "      <td>7</td>\n",
       "      <td>6</td>\n",
       "    </tr>\n",
       "    <tr>\n",
       "      <th>ENSG00000288258</th>\n",
       "      <td>0</td>\n",
       "      <td>21</td>\n",
       "      <td>2</td>\n",
       "      <td>41</td>\n",
       "      <td>34</td>\n",
       "      <td>0</td>\n",
       "      <td>5</td>\n",
       "      <td>7</td>\n",
       "      <td>5</td>\n",
       "      <td>0</td>\n",
       "      <td>...</td>\n",
       "      <td>8</td>\n",
       "      <td>3</td>\n",
       "      <td>0</td>\n",
       "      <td>3</td>\n",
       "      <td>0</td>\n",
       "      <td>0</td>\n",
       "      <td>0</td>\n",
       "      <td>2</td>\n",
       "      <td>2</td>\n",
       "      <td>5</td>\n",
       "    </tr>\n",
       "    <tr>\n",
       "      <th>ENSG00000288380</th>\n",
       "      <td>34</td>\n",
       "      <td>0</td>\n",
       "      <td>0</td>\n",
       "      <td>5</td>\n",
       "      <td>0</td>\n",
       "      <td>3</td>\n",
       "      <td>3</td>\n",
       "      <td>1</td>\n",
       "      <td>11</td>\n",
       "      <td>0</td>\n",
       "      <td>...</td>\n",
       "      <td>0</td>\n",
       "      <td>0</td>\n",
       "      <td>0</td>\n",
       "      <td>0</td>\n",
       "      <td>17</td>\n",
       "      <td>8</td>\n",
       "      <td>0</td>\n",
       "      <td>1</td>\n",
       "      <td>11</td>\n",
       "      <td>2</td>\n",
       "    </tr>\n",
       "    <tr>\n",
       "      <th>ENSG00000288534</th>\n",
       "      <td>117</td>\n",
       "      <td>42</td>\n",
       "      <td>195</td>\n",
       "      <td>332</td>\n",
       "      <td>30</td>\n",
       "      <td>108</td>\n",
       "      <td>18</td>\n",
       "      <td>61</td>\n",
       "      <td>32</td>\n",
       "      <td>7</td>\n",
       "      <td>...</td>\n",
       "      <td>23</td>\n",
       "      <td>20</td>\n",
       "      <td>13</td>\n",
       "      <td>34</td>\n",
       "      <td>76</td>\n",
       "      <td>0</td>\n",
       "      <td>0</td>\n",
       "      <td>0</td>\n",
       "      <td>0</td>\n",
       "      <td>12</td>\n",
       "    </tr>\n",
       "    <tr>\n",
       "      <th>ENSG00000288558</th>\n",
       "      <td>38</td>\n",
       "      <td>29</td>\n",
       "      <td>13</td>\n",
       "      <td>85</td>\n",
       "      <td>15</td>\n",
       "      <td>0</td>\n",
       "      <td>7</td>\n",
       "      <td>26</td>\n",
       "      <td>3</td>\n",
       "      <td>0</td>\n",
       "      <td>...</td>\n",
       "      <td>8</td>\n",
       "      <td>14</td>\n",
       "      <td>12</td>\n",
       "      <td>37</td>\n",
       "      <td>20</td>\n",
       "      <td>11</td>\n",
       "      <td>7</td>\n",
       "      <td>8</td>\n",
       "      <td>44</td>\n",
       "      <td>9</td>\n",
       "    </tr>\n",
       "  </tbody>\n",
       "</table>\n",
       "<p>15979 rows × 234 columns</p>\n",
       "</div>"
      ],
      "text/plain": [
       "                 RR057e_00202  RR057e_00080  RR057e_00287  RR057e_00753  \\\n",
       "Unnamed: 0                                                                \n",
       "ENSG00000000003          1534           621          1903          2796   \n",
       "ENSG00000000419           153           123           221           344   \n",
       "ENSG00000000457           295           185           457           626   \n",
       "ENSG00000000460            75           108           292           367   \n",
       "ENSG00000000938            19           471          1843           284   \n",
       "...                       ...           ...           ...           ...   \n",
       "ENSG00000287856            40            77           189            62   \n",
       "ENSG00000288258             0            21             2            41   \n",
       "ENSG00000288380            34             0             0             5   \n",
       "ENSG00000288534           117            42           195           332   \n",
       "ENSG00000288558            38            29            13            85   \n",
       "\n",
       "                 RR057e_00751  RR057e_00520  RR057e_00505  RR057i_00083  \\\n",
       "Unnamed: 0                                                                \n",
       "ENSG00000000003           416            15           263           834   \n",
       "ENSG00000000419           112            20            45           116   \n",
       "ENSG00000000457           170            79           164           174   \n",
       "ENSG00000000460            49            31            37            57   \n",
       "ENSG00000000938            38           539           495             9   \n",
       "...                       ...           ...           ...           ...   \n",
       "ENSG00000287856            95           156            61            23   \n",
       "ENSG00000288258            34             0             5             7   \n",
       "ENSG00000288380             0             3             3             1   \n",
       "ENSG00000288534            30           108            18            61   \n",
       "ENSG00000288558            15             0             7            26   \n",
       "\n",
       "                 RR057e_00764  RR057e_00451  ...  RR057i_00136  RR057i_00137  \\\n",
       "Unnamed: 0                                   ...                               \n",
       "ENSG00000000003            58           177  ...           264            53   \n",
       "ENSG00000000419            26            46  ...            83            97   \n",
       "ENSG00000000457            57            95  ...           105           170   \n",
       "ENSG00000000460            44            35  ...            21           117   \n",
       "ENSG00000000938          1528          1409  ...           139            87   \n",
       "...                       ...           ...  ...           ...           ...   \n",
       "ENSG00000287856            24            70  ...             7            72   \n",
       "ENSG00000288258             5             0  ...             8             3   \n",
       "ENSG00000288380            11             0  ...             0             0   \n",
       "ENSG00000288534            32             7  ...            23            20   \n",
       "ENSG00000288558             3             0  ...             8            14   \n",
       "\n",
       "                 RR057i_00156  RR057i_00158  RR057e_00719  RR057e_00721  \\\n",
       "Unnamed: 0                                                                \n",
       "ENSG00000000003           578           626           134             1   \n",
       "ENSG00000000419           110           132            57            15   \n",
       "ENSG00000000457           129           128            66            36   \n",
       "ENSG00000000460            44            68            27             9   \n",
       "ENSG00000000938            49           133            62             4   \n",
       "...                       ...           ...           ...           ...   \n",
       "ENSG00000287856            14            25             5             0   \n",
       "ENSG00000288258             0             3             0             0   \n",
       "ENSG00000288380             0             0            17             8   \n",
       "ENSG00000288534            13            34            76             0   \n",
       "ENSG00000288558            12            37            20            11   \n",
       "\n",
       "                 RR057e_00731  RR057e_00728  RR057i_00067  RR057i_00116  \n",
       "Unnamed: 0                                                               \n",
       "ENSG00000000003            56            99           297            83  \n",
       "ENSG00000000419            19             1            33            19  \n",
       "ENSG00000000457            26            31           121            61  \n",
       "ENSG00000000460             1             0            24            60  \n",
       "ENSG00000000938             3             1            14             0  \n",
       "...                       ...           ...           ...           ...  \n",
       "ENSG00000287856             9             0             7             6  \n",
       "ENSG00000288258             0             2             2             5  \n",
       "ENSG00000288380             0             1            11             2  \n",
       "ENSG00000288534             0             0             0            12  \n",
       "ENSG00000288558             7             8            44             9  \n",
       "\n",
       "[15979 rows x 234 columns]"
      ]
     },
     "execution_count": 4,
     "metadata": {},
     "output_type": "execute_result"
    }
   ],
   "source": [
    "f"
   ]
  },
  {
   "cell_type": "code",
   "execution_count": 5,
   "metadata": {},
   "outputs": [],
   "source": [
    "norm = preprocess(f)"
   ]
  },
  {
   "cell_type": "code",
   "execution_count": 6,
   "metadata": {},
   "outputs": [
    {
     "data": {
      "text/plain": [
       "(15979, 234)"
      ]
     },
     "execution_count": 6,
     "metadata": {},
     "output_type": "execute_result"
    }
   ],
   "source": [
    "norm.shape"
   ]
  },
  {
   "cell_type": "code",
   "execution_count": 4,
   "metadata": {},
   "outputs": [],
   "source": [
    "cor = np.corrcoef(norm)"
   ]
  },
  {
   "cell_type": "code",
   "execution_count": 5,
   "metadata": {},
   "outputs": [],
   "source": [
    "cor = pd.DataFrame(cor, index=f.index, columns=f.index)"
   ]
  },
  {
   "cell_type": "markdown",
   "metadata": {},
   "source": [
    "# Saving info"
   ]
  },
  {
   "cell_type": "code",
   "execution_count": 24,
   "metadata": {},
   "outputs": [],
   "source": [
    "gene_list = (pd.DataFrame(f.index)).values.astype(\"S\").tolist()"
   ]
  },
  {
   "cell_type": "code",
   "execution_count": 21,
   "metadata": {},
   "outputs": [],
   "source": [
    "h = h5py.File('correlation.h5', 'w')"
   ]
  },
  {
   "cell_type": "code",
   "execution_count": 25,
   "metadata": {},
   "outputs": [
    {
     "data": {
      "text/plain": [
       "<HDF5 dataset \"genes\": shape (15979, 1), type \"|S15\">"
      ]
     },
     "execution_count": 25,
     "metadata": {},
     "output_type": "execute_result"
    }
   ],
   "source": [
    "h.create_dataset(\"cor\", data=cor)\n",
    "h.create_dataset(\"genes\", data=gene_list)"
   ]
  },
  {
   "cell_type": "code",
   "execution_count": 28,
   "metadata": {},
   "outputs": [],
   "source": [
    "h.close()"
   ]
  },
  {
   "cell_type": "markdown",
   "metadata": {},
   "source": [
    "# Gene set libraries"
   ]
  },
  {
   "cell_type": "code",
   "execution_count": 6,
   "metadata": {},
   "outputs": [],
   "source": [
    "libraries = ['GO_Biological_Process_2018', 'GO_Molecular_Function_2018', 'GO_Cellular_Component_2018']"
   ]
  },
  {
   "cell_type": "code",
   "execution_count": 7,
   "metadata": {},
   "outputs": [],
   "source": [
    "cor = get_symbol(cor)"
   ]
  },
  {
   "cell_type": "code",
   "execution_count": 8,
   "metadata": {
    "scrolled": true
   },
   "outputs": [],
   "source": [
    "prediction_pipeline(\"correlation.h5\", libraries, cor)"
   ]
  },
  {
   "cell_type": "code",
   "execution_count": 9,
   "metadata": {},
   "outputs": [],
   "source": [
    "f = h5py.File(\"correlation.h5\", \"r\")"
   ]
  },
  {
   "cell_type": "code",
   "execution_count": 10,
   "metadata": {},
   "outputs": [
    {
     "data": {
      "text/plain": [
       "['cor',\n",
       " 'cor_GO_Biological_Process_2018',\n",
       " 'cor_GO_Cellular_Component_2018',\n",
       " 'cor_GO_Molecular_Function_2018',\n",
       " 'genes',\n",
       " 'genes_GO_Biological_Process_2018',\n",
       " 'genes_GO_Cellular_Component_2018',\n",
       " 'genes_GO_Molecular_Function_2018',\n",
       " 'pathways_GO_Biological_Process_2018',\n",
       " 'pathways_GO_Cellular_Component_2018',\n",
       " 'pathways_GO_Molecular_Function_2018']"
      ]
     },
     "execution_count": 10,
     "metadata": {},
     "output_type": "execute_result"
    }
   ],
   "source": [
    "list(f.keys())"
   ]
  },
  {
   "cell_type": "markdown",
   "metadata": {},
   "source": [
    "# SVD"
   ]
  },
  {
   "cell_type": "code",
   "execution_count": 32,
   "metadata": {},
   "outputs": [],
   "source": [
    "f = h5py.File(\"correlation.h5\", \"r+\")"
   ]
  },
  {
   "cell_type": "code",
   "execution_count": 13,
   "metadata": {},
   "outputs": [
    {
     "data": {
      "text/plain": [
       "['cor',\n",
       " 'cor_GO_Biological_Process_2018',\n",
       " 'cor_GO_Cellular_Component_2018',\n",
       " 'cor_GO_Molecular_Function_2018',\n",
       " 'genes',\n",
       " 'genes_GO_Biological_Process_2018',\n",
       " 'genes_GO_Cellular_Component_2018',\n",
       " 'genes_GO_Molecular_Function_2018',\n",
       " 'pathways_GO_Biological_Process_2018',\n",
       " 'pathways_GO_Cellular_Component_2018',\n",
       " 'pathways_GO_Molecular_Function_2018',\n",
       " 'svd_cor_GO_Biological_Process_2018',\n",
       " 'svd_cor_GO_Cellular_Component_2018',\n",
       " 'svd_cor_GO_Molecular_Function_2018']"
      ]
     },
     "execution_count": 13,
     "metadata": {},
     "output_type": "execute_result"
    }
   ],
   "source": [
    "list(f.keys())"
   ]
  },
  {
   "cell_type": "code",
   "execution_count": 14,
   "metadata": {},
   "outputs": [
    {
     "data": {
      "text/plain": [
       "['cor_GO_Biological_Process_2018',\n",
       " 'cor_GO_Cellular_Component_2018',\n",
       " 'cor_GO_Molecular_Function_2018',\n",
       " 'svd_cor_GO_Biological_Process_2018',\n",
       " 'svd_cor_GO_Cellular_Component_2018',\n",
       " 'svd_cor_GO_Molecular_Function_2018']"
      ]
     },
     "execution_count": 14,
     "metadata": {},
     "output_type": "execute_result"
    }
   ],
   "source": [
    "cor = [ c for c in list(f.keys()) if \"cor_\" in c ]\n",
    "cor"
   ]
  },
  {
   "cell_type": "code",
   "execution_count": 26,
   "metadata": {
    "scrolled": true
   },
   "outputs": [
    {
     "name": "stdout",
     "output_type": "stream",
     "text": [
      "cor_GO_Biological_Process_2018\n",
      "cor_GO_Cellular_Component_2018\n",
      "cor_GO_Molecular_Function_2018\n",
      "['cor', 'cor_GO_Biological_Process_2018', 'cor_GO_Cellular_Component_2018', 'cor_GO_Molecular_Function_2018', 'genes', 'genes_GO_Biological_Process_2018', 'genes_GO_Cellular_Component_2018', 'genes_GO_Molecular_Function_2018', 'pathways_GO_Biological_Process_2018', 'pathways_GO_Cellular_Component_2018', 'pathways_GO_Molecular_Function_2018', 'svd_cor_GO_Biological_Process_2018', 'svd_cor_GO_Cellular_Component_2018', 'svd_cor_GO_Molecular_Function_2018']\n"
     ]
    }
   ],
   "source": [
    "for c in cor:\n",
    "    svd = np.linalg.svd(pd.DataFrame(f[c]).fillna(0))[1]\n",
    "    f.create_dataset(\"svd_\" + c, data=svd)\n",
    "    print(c)\n",
    "print(list(f.keys()))\n",
    "f.close()"
   ]
  },
  {
   "cell_type": "markdown",
   "metadata": {},
   "source": [
    "# PCA"
   ]
  },
  {
   "cell_type": "code",
   "execution_count": 50,
   "metadata": {},
   "outputs": [],
   "source": [
    "def pca_function(data_name):\n",
    "    data = pd.DataFrame(f[data_name]).dropna(axis=1)\n",
    "#     define transform\n",
    "    pca = PCA()\n",
    "    transformed = pca.fit_transform(data)\n",
    "    pk.dump(pca, open(\"pca.pkl\",\"wb\"))\n",
    "    var = pca.explained_variance_\n",
    "    f.create_dataset(\"pca_\" + data_name, data=transformed)\n",
    "    f.create_dataset(\"var_\" + data_name, data=var)"
   ]
  },
  {
   "cell_type": "code",
   "execution_count": 30,
   "metadata": {},
   "outputs": [
    {
     "name": "stdout",
     "output_type": "stream",
     "text": [
      "cor_GO_Biological_Process_2018\n",
      "cor_GO_Cellular_Component_2018\n",
      "cor_GO_Molecular_Function_2018\n",
      "svd_cor_GO_Biological_Process_2018\n",
      "svd_cor_GO_Cellular_Component_2018\n",
      "svd_cor_GO_Molecular_Function_2018\n",
      "['cor', 'cor_GO_Biological_Process_2018', 'cor_GO_Cellular_Component_2018', 'cor_GO_Molecular_Function_2018', 'genes', 'genes_GO_Biological_Process_2018', 'genes_GO_Cellular_Component_2018', 'genes_GO_Molecular_Function_2018', 'pathways_GO_Biological_Process_2018', 'pathways_GO_Cellular_Component_2018', 'pathways_GO_Molecular_Function_2018', 'pca_cor_GO_Biological_Process_2018', 'pca_cor_GO_Cellular_Component_2018', 'pca_cor_GO_Molecular_Function_2018', 'pca_svd_cor_GO_Biological_Process_2018', 'pca_svd_cor_GO_Cellular_Component_2018', 'pca_svd_cor_GO_Molecular_Function_2018', 'svd_cor_GO_Biological_Process_2018', 'svd_cor_GO_Cellular_Component_2018', 'svd_cor_GO_Molecular_Function_2018', 'var_cor_GO_Biological_Process_2018', 'var_cor_GO_Cellular_Component_2018', 'var_cor_GO_Molecular_Function_2018', 'var_svd_cor_GO_Biological_Process_2018', 'var_svd_cor_GO_Cellular_Component_2018', 'var_svd_cor_GO_Molecular_Function_2018']\n"
     ]
    }
   ],
   "source": [
    "for c in cor:\n",
    "    pca_function(c)\n",
    "    print(c)\n",
    "print(list(f.keys()))\n",
    "f.close()"
   ]
  },
  {
   "cell_type": "code",
   "execution_count": 36,
   "metadata": {
    "scrolled": true
   },
   "outputs": [
    {
     "data": {
      "text/plain": [
       "['var_cor_GO_Biological_Process_2018',\n",
       " 'var_cor_GO_Cellular_Component_2018',\n",
       " 'var_cor_GO_Molecular_Function_2018']"
      ]
     },
     "execution_count": 36,
     "metadata": {},
     "output_type": "execute_result"
    }
   ],
   "source": [
    "var = [v for v in list(f.keys()) if \"var\" in v]\n",
    "var"
   ]
  },
  {
   "cell_type": "code",
   "execution_count": 42,
   "metadata": {},
   "outputs": [
    {
     "data": {
      "text/plain": [
       "array([2.73979903e+05, 5.17656802e+03, 1.38857629e+03, ...,\n",
       "       8.74589198e-28, 5.34718400e-28, 4.31400868e-29])"
      ]
     },
     "execution_count": 42,
     "metadata": {},
     "output_type": "execute_result"
    }
   ],
   "source": [
    "np.array(f[var[1]])"
   ]
  },
  {
   "cell_type": "code",
   "execution_count": 52,
   "metadata": {
    "scrolled": true
   },
   "outputs": [],
   "source": [
    "X = pd.DataFrame(f[cor[0]]).dropna(axis=1)"
   ]
  },
  {
   "cell_type": "code",
   "execution_count": 76,
   "metadata": {},
   "outputs": [],
   "source": [
    "pca = PCA(n_components=2)\n",
    "pca.fit(X)\n",
    "transformed = pca.transform(X)"
   ]
  },
  {
   "cell_type": "code",
   "execution_count": 77,
   "metadata": {},
   "outputs": [
    {
     "name": "stdout",
     "output_type": "stream",
     "text": [
      "original shape:    (14433, 11668)\n",
      "transformed shape: (14433, 2)\n"
     ]
    }
   ],
   "source": [
    "print(\"original shape:   \", X.shape)\n",
    "print(\"transformed shape:\", transformed.shape)"
   ]
  },
  {
   "cell_type": "code",
   "execution_count": 78,
   "metadata": {
    "scrolled": false
   },
   "outputs": [
    {
     "data": {
      "text/plain": [
       "<matplotlib.collections.PathCollection at 0x7f1ec0948be0>"
      ]
     },
     "execution_count": 78,
     "metadata": {},
     "output_type": "execute_result"
    },
    {
     "data": {
      "image/png": "[encoded data removed]",
      "text/plain": [
       "<matplotlib.figure.Figure at 0x7f1ec09b65c0>"
      ]
     },
     "metadata": {},
     "output_type": "display_data"
    }
   ],
   "source": [
    "def draw_vector(v0, v1, ax=None):\n",
    "    ax = ax or plt.gca()\n",
    "    arrowprops=dict(arrowstyle='->', linewidth=2, shrinkA=0, shrinkB=0)\n",
    "    ax.annotate('', v1, v0, arrowprops=arrowprops)\n",
    "\n",
    "# plot data\n",
    "plt.scatter(X.iloc[:,0], X.iloc[:, 1], alpha=0.2)"
   ]
  },
  {
   "cell_type": "code",
   "execution_count": 84,
   "metadata": {
    "scrolled": true
   },
   "outputs": [
    {
     "data": {
      "text/plain": [
       "array([-0.06918196, -2.46963451,  0.0844749 , ..., -5.01654175,\n",
       "        5.45955073, -1.10706653])"
      ]
     },
     "metadata": {},
     "output_type": "display_data"
    },
    {
     "data": {
      "text/plain": [
       "array([-0.00420723, -0.27019205,  0.02149127, ..., -0.92924467,\n",
       "        0.84924658, -0.02481491])"
      ]
     },
     "metadata": {},
     "output_type": "display_data"
    },
    {
     "data": {
      "text/plain": [
       "array([-0.07338919, -2.73982656,  0.10596617, ..., -5.94578642,\n",
       "        6.30879731, -1.13188144])"
      ]
     },
     "metadata": {},
     "output_type": "display_data"
    },
    {
     "ename": "ValueError",
     "evalue": "too many values to unpack (expected 2)",
     "output_type": "error",
     "traceback": [
      "\u001b[0;31m---------------------------------------------------------------------------\u001b[0m",
      "\u001b[0;31mValueError\u001b[0m                                Traceback (most recent call last)",
      "\u001b[0;32m<ipython-input-84-d1cbd0aee150>\u001b[0m in \u001b[0;36m<module>\u001b[0;34m()\u001b[0m\n\u001b[1;32m      5\u001b[0m     \u001b[0mdisplay\u001b[0m\u001b[0;34m(\u001b[0m\u001b[0mmean\u001b[0m\u001b[0;34m)\u001b[0m\u001b[0;34m\u001b[0m\u001b[0m\n\u001b[1;32m      6\u001b[0m     \u001b[0mdisplay\u001b[0m\u001b[0;34m(\u001b[0m\u001b[0mmean\u001b[0m \u001b[0;34m+\u001b[0m \u001b[0mv\u001b[0m\u001b[0;34m)\u001b[0m\u001b[0;34m\u001b[0m\u001b[0m\n\u001b[0;32m----> 7\u001b[0;31m     \u001b[0mdraw_vector\u001b[0m\u001b[0;34m(\u001b[0m\u001b[0mpca\u001b[0m\u001b[0;34m.\u001b[0m\u001b[0mmean_\u001b[0m\u001b[0;34m,\u001b[0m \u001b[0mpca\u001b[0m\u001b[0;34m.\u001b[0m\u001b[0mmean_\u001b[0m \u001b[0;34m+\u001b[0m \u001b[0mv\u001b[0m\u001b[0;34m)\u001b[0m\u001b[0;34m\u001b[0m\u001b[0m\n\u001b[0m\u001b[1;32m      8\u001b[0m     \u001b[0;32mbreak\u001b[0m\u001b[0;34m\u001b[0m\u001b[0m\n",
      "\u001b[0;32m<ipython-input-78-e524b5bb952b>\u001b[0m in \u001b[0;36mdraw_vector\u001b[0;34m(v0, v1, ax)\u001b[0m\n\u001b[1;32m      4\u001b[0m                     \u001b[0mlinewidth\u001b[0m\u001b[0;34m=\u001b[0m\u001b[0;36m2\u001b[0m\u001b[0;34m,\u001b[0m\u001b[0;34m\u001b[0m\u001b[0m\n\u001b[1;32m      5\u001b[0m                     shrinkA=0, shrinkB=0)\n\u001b[0;32m----> 6\u001b[0;31m     \u001b[0max\u001b[0m\u001b[0;34m.\u001b[0m\u001b[0mannotate\u001b[0m\u001b[0;34m(\u001b[0m\u001b[0;34m''\u001b[0m\u001b[0;34m,\u001b[0m \u001b[0mv1\u001b[0m\u001b[0;34m,\u001b[0m \u001b[0mv0\u001b[0m\u001b[0;34m,\u001b[0m \u001b[0marrowprops\u001b[0m\u001b[0;34m=\u001b[0m\u001b[0marrowprops\u001b[0m\u001b[0;34m)\u001b[0m\u001b[0;34m\u001b[0m\u001b[0m\n\u001b[0m\u001b[1;32m      7\u001b[0m \u001b[0;34m\u001b[0m\u001b[0m\n\u001b[1;32m      8\u001b[0m \u001b[0;31m# plot data\u001b[0m\u001b[0;34m\u001b[0m\u001b[0;34m\u001b[0m\u001b[0m\n",
      "\u001b[0;32m/opt/apps/rhel7/Python-GPU-3.6.5/lib/python3.6/site-packages/matplotlib/axes/_axes.py\u001b[0m in \u001b[0;36mannotate\u001b[0;34m(self, *args, **kwargs)\u001b[0m\n\u001b[1;32m    583\u001b[0m     \u001b[0;34m@\u001b[0m\u001b[0mdocstring\u001b[0m\u001b[0;34m.\u001b[0m\u001b[0mdedent_interpd\u001b[0m\u001b[0;34m\u001b[0m\u001b[0m\n\u001b[1;32m    584\u001b[0m     \u001b[0;32mdef\u001b[0m \u001b[0mannotate\u001b[0m\u001b[0;34m(\u001b[0m\u001b[0mself\u001b[0m\u001b[0;34m,\u001b[0m \u001b[0;34m*\u001b[0m\u001b[0margs\u001b[0m\u001b[0;34m,\u001b[0m \u001b[0;34m**\u001b[0m\u001b[0mkwargs\u001b[0m\u001b[0;34m)\u001b[0m\u001b[0;34m:\u001b[0m\u001b[0;34m\u001b[0m\u001b[0m\n\u001b[0;32m--> 585\u001b[0;31m         \u001b[0ma\u001b[0m \u001b[0;34m=\u001b[0m \u001b[0mmtext\u001b[0m\u001b[0;34m.\u001b[0m\u001b[0mAnnotation\u001b[0m\u001b[0;34m(\u001b[0m\u001b[0;34m*\u001b[0m\u001b[0margs\u001b[0m\u001b[0;34m,\u001b[0m \u001b[0;34m**\u001b[0m\u001b[0mkwargs\u001b[0m\u001b[0;34m)\u001b[0m\u001b[0;34m\u001b[0m\u001b[0m\n\u001b[0m\u001b[1;32m    586\u001b[0m         \u001b[0ma\u001b[0m\u001b[0;34m.\u001b[0m\u001b[0mset_transform\u001b[0m\u001b[0;34m(\u001b[0m\u001b[0mmtransforms\u001b[0m\u001b[0;34m.\u001b[0m\u001b[0mIdentityTransform\u001b[0m\u001b[0;34m(\u001b[0m\u001b[0;34m)\u001b[0m\u001b[0;34m)\u001b[0m\u001b[0;34m\u001b[0m\u001b[0m\n\u001b[1;32m    587\u001b[0m         \u001b[0;32mif\u001b[0m \u001b[0;34m'clip_on'\u001b[0m \u001b[0;32min\u001b[0m \u001b[0mkwargs\u001b[0m\u001b[0;34m:\u001b[0m\u001b[0;34m\u001b[0m\u001b[0m\n",
      "\u001b[0;32m/opt/apps/rhel7/Python-GPU-3.6.5/lib/python3.6/site-packages/matplotlib/text.py\u001b[0m in \u001b[0;36m__init__\u001b[0;34m(self, s, xy, xytext, xycoords, textcoords, arrowprops, annotation_clip, **kwargs)\u001b[0m\n\u001b[1;32m   2118\u001b[0m         \u001b[0;32mif\u001b[0m \u001b[0mxytext\u001b[0m \u001b[0;32mis\u001b[0m \u001b[0;32mNone\u001b[0m\u001b[0;34m:\u001b[0m\u001b[0;34m\u001b[0m\u001b[0m\n\u001b[1;32m   2119\u001b[0m             \u001b[0mxytext\u001b[0m \u001b[0;34m=\u001b[0m \u001b[0mself\u001b[0m\u001b[0;34m.\u001b[0m\u001b[0mxy\u001b[0m\u001b[0;34m\u001b[0m\u001b[0m\n\u001b[0;32m-> 2120\u001b[0;31m         \u001b[0mx\u001b[0m\u001b[0;34m,\u001b[0m \u001b[0my\u001b[0m \u001b[0;34m=\u001b[0m \u001b[0mxytext\u001b[0m\u001b[0;34m\u001b[0m\u001b[0m\n\u001b[0m\u001b[1;32m   2121\u001b[0m \u001b[0;34m\u001b[0m\u001b[0m\n\u001b[1;32m   2122\u001b[0m         \u001b[0mText\u001b[0m\u001b[0;34m.\u001b[0m\u001b[0m__init__\u001b[0m\u001b[0;34m(\u001b[0m\u001b[0mself\u001b[0m\u001b[0;34m,\u001b[0m \u001b[0mx\u001b[0m\u001b[0;34m,\u001b[0m \u001b[0my\u001b[0m\u001b[0;34m,\u001b[0m \u001b[0ms\u001b[0m\u001b[0;34m,\u001b[0m \u001b[0;34m**\u001b[0m\u001b[0mkwargs\u001b[0m\u001b[0;34m)\u001b[0m\u001b[0;34m\u001b[0m\u001b[0m\n",
      "\u001b[0;31mValueError\u001b[0m: too many values to unpack (expected 2)"
     ]
    },
    {
     "data": {
      "image/png": "[encoded data removed]",
      "text/plain": [
       "<matplotlib.figure.Figure at 0x7f1ec0a27668>"
      ]
     },
     "metadata": {},
     "output_type": "display_data"
    }
   ],
   "source": [
    "mean = pca.mean_\n",
    "for length, vector in zip(pca.explained_variance_, pca.components_): \n",
    "    v = vector * 3 * np.sqrt(length)\n",
    "    display(mean)\n",
    "    display(mean + v)\n",
    "    draw_vector(pca.mean_, pca.mean_ + v)\n",
    "    break"
   ]
  },
  {
   "cell_type": "code",
   "execution_count": 80,
   "metadata": {
    "scrolled": true
   },
   "outputs": [
    {
     "ename": "ValueError",
     "evalue": "too many values to unpack (expected 2)",
     "output_type": "error",
     "traceback": [
      "\u001b[0;31m---------------------------------------------------------------------------\u001b[0m",
      "\u001b[0;31mValueError\u001b[0m                                Traceback (most recent call last)",
      "\u001b[0;32m<ipython-input-80-4db35212ddba>\u001b[0m in \u001b[0;36m<module>\u001b[0;34m()\u001b[0m\n\u001b[1;32m      1\u001b[0m \u001b[0;32mfor\u001b[0m \u001b[0mlength\u001b[0m\u001b[0;34m,\u001b[0m \u001b[0mvector\u001b[0m \u001b[0;32min\u001b[0m \u001b[0mzip\u001b[0m\u001b[0;34m(\u001b[0m\u001b[0mpca\u001b[0m\u001b[0;34m.\u001b[0m\u001b[0mexplained_variance_\u001b[0m\u001b[0;34m,\u001b[0m \u001b[0mpca\u001b[0m\u001b[0;34m.\u001b[0m\u001b[0mcomponents_\u001b[0m\u001b[0;34m)\u001b[0m\u001b[0;34m:\u001b[0m\u001b[0;34m\u001b[0m\u001b[0m\n\u001b[1;32m      2\u001b[0m     \u001b[0mv\u001b[0m \u001b[0;34m=\u001b[0m \u001b[0mvector\u001b[0m \u001b[0;34m*\u001b[0m \u001b[0;36m3\u001b[0m \u001b[0;34m*\u001b[0m \u001b[0mnp\u001b[0m\u001b[0;34m.\u001b[0m\u001b[0msqrt\u001b[0m\u001b[0;34m(\u001b[0m\u001b[0mlength\u001b[0m\u001b[0;34m)\u001b[0m\u001b[0;34m\u001b[0m\u001b[0m\n\u001b[0;32m----> 3\u001b[0;31m     \u001b[0mdraw_vector\u001b[0m\u001b[0;34m(\u001b[0m\u001b[0mpca\u001b[0m\u001b[0;34m.\u001b[0m\u001b[0mmean_\u001b[0m\u001b[0;34m,\u001b[0m \u001b[0mpca\u001b[0m\u001b[0;34m.\u001b[0m\u001b[0mmean_\u001b[0m \u001b[0;34m+\u001b[0m \u001b[0mv\u001b[0m\u001b[0;34m)\u001b[0m\u001b[0;34m\u001b[0m\u001b[0m\n\u001b[0m\u001b[1;32m      4\u001b[0m \u001b[0mplt\u001b[0m\u001b[0;34m.\u001b[0m\u001b[0maxis\u001b[0m\u001b[0;34m(\u001b[0m\u001b[0;34m'equal'\u001b[0m\u001b[0;34m)\u001b[0m\u001b[0;34m;\u001b[0m\u001b[0;34m\u001b[0m\u001b[0m\n",
      "\u001b[0;32m<ipython-input-78-e524b5bb952b>\u001b[0m in \u001b[0;36mdraw_vector\u001b[0;34m(v0, v1, ax)\u001b[0m\n\u001b[1;32m      4\u001b[0m                     \u001b[0mlinewidth\u001b[0m\u001b[0;34m=\u001b[0m\u001b[0;36m2\u001b[0m\u001b[0;34m,\u001b[0m\u001b[0;34m\u001b[0m\u001b[0m\n\u001b[1;32m      5\u001b[0m                     shrinkA=0, shrinkB=0)\n\u001b[0;32m----> 6\u001b[0;31m     \u001b[0max\u001b[0m\u001b[0;34m.\u001b[0m\u001b[0mannotate\u001b[0m\u001b[0;34m(\u001b[0m\u001b[0;34m''\u001b[0m\u001b[0;34m,\u001b[0m \u001b[0mv1\u001b[0m\u001b[0;34m,\u001b[0m \u001b[0mv0\u001b[0m\u001b[0;34m,\u001b[0m \u001b[0marrowprops\u001b[0m\u001b[0;34m=\u001b[0m\u001b[0marrowprops\u001b[0m\u001b[0;34m)\u001b[0m\u001b[0;34m\u001b[0m\u001b[0m\n\u001b[0m\u001b[1;32m      7\u001b[0m \u001b[0;34m\u001b[0m\u001b[0m\n\u001b[1;32m      8\u001b[0m \u001b[0;31m# plot data\u001b[0m\u001b[0;34m\u001b[0m\u001b[0;34m\u001b[0m\u001b[0m\n",
      "\u001b[0;32m/opt/apps/rhel7/Python-GPU-3.6.5/lib/python3.6/site-packages/matplotlib/axes/_axes.py\u001b[0m in \u001b[0;36mannotate\u001b[0;34m(self, *args, **kwargs)\u001b[0m\n\u001b[1;32m    583\u001b[0m     \u001b[0;34m@\u001b[0m\u001b[0mdocstring\u001b[0m\u001b[0;34m.\u001b[0m\u001b[0mdedent_interpd\u001b[0m\u001b[0;34m\u001b[0m\u001b[0m\n\u001b[1;32m    584\u001b[0m     \u001b[0;32mdef\u001b[0m \u001b[0mannotate\u001b[0m\u001b[0;34m(\u001b[0m\u001b[0mself\u001b[0m\u001b[0;34m,\u001b[0m \u001b[0;34m*\u001b[0m\u001b[0margs\u001b[0m\u001b[0;34m,\u001b[0m \u001b[0;34m**\u001b[0m\u001b[0mkwargs\u001b[0m\u001b[0;34m)\u001b[0m\u001b[0;34m:\u001b[0m\u001b[0;34m\u001b[0m\u001b[0m\n\u001b[0;32m--> 585\u001b[0;31m         \u001b[0ma\u001b[0m \u001b[0;34m=\u001b[0m \u001b[0mmtext\u001b[0m\u001b[0;34m.\u001b[0m\u001b[0mAnnotation\u001b[0m\u001b[0;34m(\u001b[0m\u001b[0;34m*\u001b[0m\u001b[0margs\u001b[0m\u001b[0;34m,\u001b[0m \u001b[0;34m**\u001b[0m\u001b[0mkwargs\u001b[0m\u001b[0;34m)\u001b[0m\u001b[0;34m\u001b[0m\u001b[0m\n\u001b[0m\u001b[1;32m    586\u001b[0m         \u001b[0ma\u001b[0m\u001b[0;34m.\u001b[0m\u001b[0mset_transform\u001b[0m\u001b[0;34m(\u001b[0m\u001b[0mmtransforms\u001b[0m\u001b[0;34m.\u001b[0m\u001b[0mIdentityTransform\u001b[0m\u001b[0;34m(\u001b[0m\u001b[0;34m)\u001b[0m\u001b[0;34m)\u001b[0m\u001b[0;34m\u001b[0m\u001b[0m\n\u001b[1;32m    587\u001b[0m         \u001b[0;32mif\u001b[0m \u001b[0;34m'clip_on'\u001b[0m \u001b[0;32min\u001b[0m \u001b[0mkwargs\u001b[0m\u001b[0;34m:\u001b[0m\u001b[0;34m\u001b[0m\u001b[0m\n",
      "\u001b[0;32m/opt/apps/rhel7/Python-GPU-3.6.5/lib/python3.6/site-packages/matplotlib/text.py\u001b[0m in \u001b[0;36m__init__\u001b[0;34m(self, s, xy, xytext, xycoords, textcoords, arrowprops, annotation_clip, **kwargs)\u001b[0m\n\u001b[1;32m   2118\u001b[0m         \u001b[0;32mif\u001b[0m \u001b[0mxytext\u001b[0m \u001b[0;32mis\u001b[0m \u001b[0;32mNone\u001b[0m\u001b[0;34m:\u001b[0m\u001b[0;34m\u001b[0m\u001b[0m\n\u001b[1;32m   2119\u001b[0m             \u001b[0mxytext\u001b[0m \u001b[0;34m=\u001b[0m \u001b[0mself\u001b[0m\u001b[0;34m.\u001b[0m\u001b[0mxy\u001b[0m\u001b[0;34m\u001b[0m\u001b[0m\n\u001b[0;32m-> 2120\u001b[0;31m         \u001b[0mx\u001b[0m\u001b[0;34m,\u001b[0m \u001b[0my\u001b[0m \u001b[0;34m=\u001b[0m \u001b[0mxytext\u001b[0m\u001b[0;34m\u001b[0m\u001b[0m\n\u001b[0m\u001b[1;32m   2121\u001b[0m \u001b[0;34m\u001b[0m\u001b[0m\n\u001b[1;32m   2122\u001b[0m         \u001b[0mText\u001b[0m\u001b[0;34m.\u001b[0m\u001b[0m__init__\u001b[0m\u001b[0;34m(\u001b[0m\u001b[0mself\u001b[0m\u001b[0;34m,\u001b[0m \u001b[0mx\u001b[0m\u001b[0;34m,\u001b[0m \u001b[0my\u001b[0m\u001b[0;34m,\u001b[0m \u001b[0ms\u001b[0m\u001b[0;34m,\u001b[0m \u001b[0;34m**\u001b[0m\u001b[0mkwargs\u001b[0m\u001b[0;34m)\u001b[0m\u001b[0;34m\u001b[0m\u001b[0m\n",
      "\u001b[0;31mValueError\u001b[0m: too many values to unpack (expected 2)"
     ]
    },
    {
     "data": {
      "image/png": "[encoded data removed]",
      "text/plain": [
       "<matplotlib.figure.Figure at 0x7f1ec0911be0>"
      ]
     },
     "metadata": {},
     "output_type": "display_data"
    }
   ],
   "source": [
    "for length, vector in zip(pca.explained_variance_, pca.components_):\n",
    "    v = vector * 3 * np.sqrt(length)\n",
    "    draw_vector(pca.mean_, pca.mean_ + v)\n",
    "plt.axis('equal');"
   ]
  },
  {
   "cell_type": "code",
   "execution_count": null,
   "metadata": {},
   "outputs": [],
   "source": [
    "pca.fit(X)"
   ]
  },
  {
   "cell_type": "code",
   "execution_count": 91,
   "metadata": {
    "scrolled": true
   },
   "outputs": [
    {
     "data": {
      "image/png": "[encoded data removed]",
      "text/plain": [
       "<matplotlib.figure.Figure at 0x7f1ec09692e8>"
      ]
     },
     "metadata": {},
     "output_type": "display_data"
    }
   ],
   "source": [
    "X_new = pca.inverse_transform(transformed)\n",
    "plt.scatter(X.iloc[:, 0], X.iloc[:, 1], alpha=0.2)\n",
    "plt.scatter(X_new[:, 0], X_new[:, 1], alpha=0.8)\n",
    "plt.axis('equal');"
   ]
  },
  {
   "cell_type": "code",
   "execution_count": 90,
   "metadata": {
    "scrolled": true
   },
   "outputs": [
    {
     "data": {
      "text/html": [
       "<div>\n",
       "<style scoped>\n",
       "    .dataframe tbody tr th:only-of-type {\n",
       "        vertical-align: middle;\n",
       "    }\n",
       "\n",
       "    .dataframe tbody tr th {\n",
       "        vertical-align: top;\n",
       "    }\n",
       "\n",
       "    .dataframe thead th {\n",
       "        text-align: right;\n",
       "    }\n",
       "</style>\n",
       "<table border=\"1\" class=\"dataframe\">\n",
       "  <thead>\n",
       "    <tr style=\"text-align: right;\">\n",
       "      <th></th>\n",
       "      <th>1</th>\n",
       "      <th>2</th>\n",
       "      <th>3</th>\n",
       "      <th>4</th>\n",
       "      <th>6</th>\n",
       "      <th>8</th>\n",
       "      <th>9</th>\n",
       "      <th>10</th>\n",
       "      <th>11</th>\n",
       "      <th>12</th>\n",
       "      <th>...</th>\n",
       "      <th>14423</th>\n",
       "      <th>14424</th>\n",
       "      <th>14425</th>\n",
       "      <th>14426</th>\n",
       "      <th>14427</th>\n",
       "      <th>14428</th>\n",
       "      <th>14429</th>\n",
       "      <th>14430</th>\n",
       "      <th>14431</th>\n",
       "      <th>14432</th>\n",
       "    </tr>\n",
       "  </thead>\n",
       "  <tbody>\n",
       "    <tr>\n",
       "      <th>0</th>\n",
       "      <td>-0.026378</td>\n",
       "      <td>-1.268975</td>\n",
       "      <td>0.107865</td>\n",
       "      <td>-0.729151</td>\n",
       "      <td>0.239219</td>\n",
       "      <td>0.129384</td>\n",
       "      <td>-0.186801</td>\n",
       "      <td>-0.081057</td>\n",
       "      <td>0.115797</td>\n",
       "      <td>0.052232</td>\n",
       "      <td>...</td>\n",
       "      <td>1.652544</td>\n",
       "      <td>-0.125248</td>\n",
       "      <td>2.050016</td>\n",
       "      <td>0.226479</td>\n",
       "      <td>0.913643</td>\n",
       "      <td>0.010155</td>\n",
       "      <td>0.002252</td>\n",
       "      <td>-4.352432</td>\n",
       "      <td>3.409001</td>\n",
       "      <td>0.033780</td>\n",
       "    </tr>\n",
       "    <tr>\n",
       "      <th>1</th>\n",
       "      <td>0.046137</td>\n",
       "      <td>1.687342</td>\n",
       "      <td>0.083065</td>\n",
       "      <td>1.817246</td>\n",
       "      <td>-0.824386</td>\n",
       "      <td>-0.058963</td>\n",
       "      <td>0.166096</td>\n",
       "      <td>2.391429</td>\n",
       "      <td>2.641028</td>\n",
       "      <td>0.056202</td>\n",
       "      <td>...</td>\n",
       "      <td>-7.444400</td>\n",
       "      <td>-0.221104</td>\n",
       "      <td>-1.167337</td>\n",
       "      <td>-0.218039</td>\n",
       "      <td>0.188250</td>\n",
       "      <td>-0.033224</td>\n",
       "      <td>-0.000244</td>\n",
       "      <td>1.220236</td>\n",
       "      <td>-2.566008</td>\n",
       "      <td>1.824799</td>\n",
       "    </tr>\n",
       "    <tr>\n",
       "      <th>2</th>\n",
       "      <td>-0.001024</td>\n",
       "      <td>0.006610</td>\n",
       "      <td>0.008240</td>\n",
       "      <td>-0.144488</td>\n",
       "      <td>-0.048023</td>\n",
       "      <td>0.004488</td>\n",
       "      <td>0.069955</td>\n",
       "      <td>0.012086</td>\n",
       "      <td>0.029617</td>\n",
       "      <td>0.000121</td>\n",
       "      <td>...</td>\n",
       "      <td>0.105446</td>\n",
       "      <td>0.004993</td>\n",
       "      <td>0.216003</td>\n",
       "      <td>0.003679</td>\n",
       "      <td>0.059870</td>\n",
       "      <td>0.001321</td>\n",
       "      <td>-0.000319</td>\n",
       "      <td>-0.071364</td>\n",
       "      <td>0.081608</td>\n",
       "      <td>0.019808</td>\n",
       "    </tr>\n",
       "    <tr>\n",
       "      <th>3</th>\n",
       "      <td>0.015944</td>\n",
       "      <td>0.101413</td>\n",
       "      <td>-0.002243</td>\n",
       "      <td>0.676540</td>\n",
       "      <td>0.155809</td>\n",
       "      <td>0.017785</td>\n",
       "      <td>-0.628749</td>\n",
       "      <td>0.192068</td>\n",
       "      <td>0.202036</td>\n",
       "      <td>0.027124</td>\n",
       "      <td>...</td>\n",
       "      <td>-0.923169</td>\n",
       "      <td>-0.041608</td>\n",
       "      <td>-0.566061</td>\n",
       "      <td>-0.006483</td>\n",
       "      <td>-0.089408</td>\n",
       "      <td>-0.005455</td>\n",
       "      <td>0.004160</td>\n",
       "      <td>-0.502630</td>\n",
       "      <td>-0.083206</td>\n",
       "      <td>0.085666</td>\n",
       "    </tr>\n",
       "    <tr>\n",
       "      <th>4</th>\n",
       "      <td>0.000307</td>\n",
       "      <td>0.084698</td>\n",
       "      <td>-0.000366</td>\n",
       "      <td>0.319137</td>\n",
       "      <td>-0.004283</td>\n",
       "      <td>-0.008486</td>\n",
       "      <td>0.044616</td>\n",
       "      <td>0.079683</td>\n",
       "      <td>0.130853</td>\n",
       "      <td>-0.000126</td>\n",
       "      <td>...</td>\n",
       "      <td>-0.356479</td>\n",
       "      <td>-0.005019</td>\n",
       "      <td>-0.099637</td>\n",
       "      <td>-0.009094</td>\n",
       "      <td>-0.015467</td>\n",
       "      <td>-0.001108</td>\n",
       "      <td>-0.001386</td>\n",
       "      <td>0.228884</td>\n",
       "      <td>-0.187998</td>\n",
       "      <td>0.061207</td>\n",
       "    </tr>\n",
       "    <tr>\n",
       "      <th>...</th>\n",
       "      <td>...</td>\n",
       "      <td>...</td>\n",
       "      <td>...</td>\n",
       "      <td>...</td>\n",
       "      <td>...</td>\n",
       "      <td>...</td>\n",
       "      <td>...</td>\n",
       "      <td>...</td>\n",
       "      <td>...</td>\n",
       "      <td>...</td>\n",
       "      <td>...</td>\n",
       "      <td>...</td>\n",
       "      <td>...</td>\n",
       "      <td>...</td>\n",
       "      <td>...</td>\n",
       "      <td>...</td>\n",
       "      <td>...</td>\n",
       "      <td>...</td>\n",
       "      <td>...</td>\n",
       "      <td>...</td>\n",
       "      <td>...</td>\n",
       "    </tr>\n",
       "    <tr>\n",
       "      <th>14428</th>\n",
       "      <td>-0.028604</td>\n",
       "      <td>-1.588837</td>\n",
       "      <td>0.105305</td>\n",
       "      <td>-1.252797</td>\n",
       "      <td>0.080897</td>\n",
       "      <td>0.135439</td>\n",
       "      <td>0.182210</td>\n",
       "      <td>-0.140348</td>\n",
       "      <td>-0.190875</td>\n",
       "      <td>0.053625</td>\n",
       "      <td>...</td>\n",
       "      <td>2.375231</td>\n",
       "      <td>-0.084090</td>\n",
       "      <td>1.808776</td>\n",
       "      <td>0.284865</td>\n",
       "      <td>1.015143</td>\n",
       "      <td>0.024211</td>\n",
       "      <td>0.011587</td>\n",
       "      <td>-4.141030</td>\n",
       "      <td>4.205864</td>\n",
       "      <td>-0.210444</td>\n",
       "    </tr>\n",
       "    <tr>\n",
       "      <th>14429</th>\n",
       "      <td>-0.028604</td>\n",
       "      <td>-1.588837</td>\n",
       "      <td>0.105305</td>\n",
       "      <td>-1.252797</td>\n",
       "      <td>0.080897</td>\n",
       "      <td>0.135439</td>\n",
       "      <td>0.182210</td>\n",
       "      <td>-0.140348</td>\n",
       "      <td>-0.190875</td>\n",
       "      <td>0.053625</td>\n",
       "      <td>...</td>\n",
       "      <td>2.375231</td>\n",
       "      <td>-0.084090</td>\n",
       "      <td>1.808776</td>\n",
       "      <td>0.284865</td>\n",
       "      <td>1.015143</td>\n",
       "      <td>0.024211</td>\n",
       "      <td>0.011587</td>\n",
       "      <td>-4.141030</td>\n",
       "      <td>4.205864</td>\n",
       "      <td>-0.210444</td>\n",
       "    </tr>\n",
       "    <tr>\n",
       "      <th>14430</th>\n",
       "      <td>-0.007097</td>\n",
       "      <td>-0.151544</td>\n",
       "      <td>0.011115</td>\n",
       "      <td>-0.150029</td>\n",
       "      <td>0.006877</td>\n",
       "      <td>0.006070</td>\n",
       "      <td>0.213231</td>\n",
       "      <td>-0.087530</td>\n",
       "      <td>-0.048048</td>\n",
       "      <td>-0.003264</td>\n",
       "      <td>...</td>\n",
       "      <td>0.382890</td>\n",
       "      <td>0.000518</td>\n",
       "      <td>0.410299</td>\n",
       "      <td>0.019297</td>\n",
       "      <td>0.090497</td>\n",
       "      <td>0.002318</td>\n",
       "      <td>-0.000613</td>\n",
       "      <td>0.148545</td>\n",
       "      <td>0.551951</td>\n",
       "      <td>-0.011019</td>\n",
       "    </tr>\n",
       "    <tr>\n",
       "      <th>14431</th>\n",
       "      <td>-0.007097</td>\n",
       "      <td>-0.151544</td>\n",
       "      <td>0.011115</td>\n",
       "      <td>-0.150029</td>\n",
       "      <td>0.006877</td>\n",
       "      <td>0.006070</td>\n",
       "      <td>0.213231</td>\n",
       "      <td>-0.087530</td>\n",
       "      <td>-0.048048</td>\n",
       "      <td>-0.003264</td>\n",
       "      <td>...</td>\n",
       "      <td>0.382890</td>\n",
       "      <td>0.000518</td>\n",
       "      <td>0.410299</td>\n",
       "      <td>0.019297</td>\n",
       "      <td>0.090497</td>\n",
       "      <td>0.002318</td>\n",
       "      <td>-0.000613</td>\n",
       "      <td>0.148545</td>\n",
       "      <td>0.551951</td>\n",
       "      <td>-0.011019</td>\n",
       "    </tr>\n",
       "    <tr>\n",
       "      <th>14432</th>\n",
       "      <td>0.004367</td>\n",
       "      <td>0.036302</td>\n",
       "      <td>-0.012079</td>\n",
       "      <td>0.318959</td>\n",
       "      <td>0.172362</td>\n",
       "      <td>0.004991</td>\n",
       "      <td>-0.317324</td>\n",
       "      <td>0.038899</td>\n",
       "      <td>0.021341</td>\n",
       "      <td>0.007893</td>\n",
       "      <td>...</td>\n",
       "      <td>-0.367615</td>\n",
       "      <td>0.005334</td>\n",
       "      <td>-0.327853</td>\n",
       "      <td>0.003833</td>\n",
       "      <td>-0.116666</td>\n",
       "      <td>-0.002197</td>\n",
       "      <td>0.002083</td>\n",
       "      <td>-0.168612</td>\n",
       "      <td>0.128081</td>\n",
       "      <td>-0.004502</td>\n",
       "    </tr>\n",
       "  </tbody>\n",
       "</table>\n",
       "<p>14433 rows × 11668 columns</p>\n",
       "</div>"
      ],
      "text/plain": [
       "          1         2         3         4         6         8         9      \\\n",
       "0     -0.026378 -1.268975  0.107865 -0.729151  0.239219  0.129384 -0.186801   \n",
       "1      0.046137  1.687342  0.083065  1.817246 -0.824386 -0.058963  0.166096   \n",
       "2     -0.001024  0.006610  0.008240 -0.144488 -0.048023  0.004488  0.069955   \n",
       "3      0.015944  0.101413 -0.002243  0.676540  0.155809  0.017785 -0.628749   \n",
       "4      0.000307  0.084698 -0.000366  0.319137 -0.004283 -0.008486  0.044616   \n",
       "...         ...       ...       ...       ...       ...       ...       ...   \n",
       "14428 -0.028604 -1.588837  0.105305 -1.252797  0.080897  0.135439  0.182210   \n",
       "14429 -0.028604 -1.588837  0.105305 -1.252797  0.080897  0.135439  0.182210   \n",
       "14430 -0.007097 -0.151544  0.011115 -0.150029  0.006877  0.006070  0.213231   \n",
       "14431 -0.007097 -0.151544  0.011115 -0.150029  0.006877  0.006070  0.213231   \n",
       "14432  0.004367  0.036302 -0.012079  0.318959  0.172362  0.004991 -0.317324   \n",
       "\n",
       "          10        11        12     ...     14423     14424     14425  \\\n",
       "0     -0.081057  0.115797  0.052232  ...  1.652544 -0.125248  2.050016   \n",
       "1      2.391429  2.641028  0.056202  ... -7.444400 -0.221104 -1.167337   \n",
       "2      0.012086  0.029617  0.000121  ...  0.105446  0.004993  0.216003   \n",
       "3      0.192068  0.202036  0.027124  ... -0.923169 -0.041608 -0.566061   \n",
       "4      0.079683  0.130853 -0.000126  ... -0.356479 -0.005019 -0.099637   \n",
       "...         ...       ...       ...  ...       ...       ...       ...   \n",
       "14428 -0.140348 -0.190875  0.053625  ...  2.375231 -0.084090  1.808776   \n",
       "14429 -0.140348 -0.190875  0.053625  ...  2.375231 -0.084090  1.808776   \n",
       "14430 -0.087530 -0.048048 -0.003264  ...  0.382890  0.000518  0.410299   \n",
       "14431 -0.087530 -0.048048 -0.003264  ...  0.382890  0.000518  0.410299   \n",
       "14432  0.038899  0.021341  0.007893  ... -0.367615  0.005334 -0.327853   \n",
       "\n",
       "          14426     14427     14428     14429     14430     14431     14432  \n",
       "0      0.226479  0.913643  0.010155  0.002252 -4.352432  3.409001  0.033780  \n",
       "1     -0.218039  0.188250 -0.033224 -0.000244  1.220236 -2.566008  1.824799  \n",
       "2      0.003679  0.059870  0.001321 -0.000319 -0.071364  0.081608  0.019808  \n",
       "3     -0.006483 -0.089408 -0.005455  0.004160 -0.502630 -0.083206  0.085666  \n",
       "4     -0.009094 -0.015467 -0.001108 -0.001386  0.228884 -0.187998  0.061207  \n",
       "...         ...       ...       ...       ...       ...       ...       ...  \n",
       "14428  0.284865  1.015143  0.024211  0.011587 -4.141030  4.205864 -0.210444  \n",
       "14429  0.284865  1.015143  0.024211  0.011587 -4.141030  4.205864 -0.210444  \n",
       "14430  0.019297  0.090497  0.002318 -0.000613  0.148545  0.551951 -0.011019  \n",
       "14431  0.019297  0.090497  0.002318 -0.000613  0.148545  0.551951 -0.011019  \n",
       "14432  0.003833 -0.116666 -0.002197  0.002083 -0.168612  0.128081 -0.004502  \n",
       "\n",
       "[14433 rows x 11668 columns]"
      ]
     },
     "execution_count": 90,
     "metadata": {},
     "output_type": "execute_result"
    }
   ],
   "source": [
    "X"
   ]
  },
  {
   "cell_type": "code",
   "execution_count": null,
   "metadata": {},
   "outputs": [],
   "source": []
  }
 ],
 "metadata": {
  "kernelspec": {
   "display_name": "Python 3",
   "language": "python",
   "name": "python3"
  },
  "language_info": {
   "codemirror_mode": {
    "name": "ipython",
    "version": 3
   },
   "file_extension": ".py",
   "mimetype": "text/x-python",
   "name": "python",
   "nbconvert_exporter": "python",
   "pygments_lexer": "ipython3",
   "version": "3.6.5"
  }
 },
 "nbformat": 4,
 "nbformat_minor": 2
}
